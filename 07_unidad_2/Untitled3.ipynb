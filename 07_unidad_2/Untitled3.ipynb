{
 "cells": [
  {
   "cell_type": "code",
   "execution_count": null,
   "id": "feb2b2b2",
   "metadata": {},
   "outputs": [],
   "source": [
    "# import pandas, numpy, and matplotlib\n",
    "import pandas as pd\n",
    "import numpy as np\n",
    "import matplotlib.pyplot as plt\n",
    "import seaborn as sns\n",
    "pd.set_option('display.width', 75)\n",
    "pd.set_option('display.max_columns', 7)\n",
    "pd.set_option('display.max_rows', 20)\n",
    "pd.options.display.float_format = '{:,.2f}'.format\n",
    "covidtotals = pd.read_csv(\"data/covidtotals.csv\")\n",
    "covidtotals.set_index(\"iso_code\", inplace=True)"
   ]
  },
  {
   "cell_type": "code",
   "execution_count": null,
   "id": "df8a7414",
   "metadata": {},
   "outputs": [],
   "source": [
    "# set up the cumulative and demographic columns\n",
    "totvars = ['location','total_cases','total_deaths','total_cases_pm',\n",
    "  'total_deaths_pm']\n",
    "demovars = ['population','pop_density','median_age','gdp_per_capita',\n",
    "  'hosp_beds']\n",
    "\n"
   ]
  },
  {
   "cell_type": "code",
   "execution_count": null,
   "id": "8865955e",
   "metadata": {},
   "outputs": [],
   "source": [
    "# generate a correlation matrix of the cumulative and demographic data\n",
    "covidtotals.corr(method=\"pearson\")\n",
    "\n"
   ]
  },
  {
   "cell_type": "code",
   "execution_count": null,
   "id": "8da3627c",
   "metadata": {},
   "outputs": [],
   "source": [
    "# get descriptive statistics on the cumulative values\n",
    "covidtotalsonly = covidtotals.loc[:, totvars]\n"
   ]
  },
  {
   "cell_type": "code",
   "execution_count": null,
   "id": "516a5728",
   "metadata": {},
   "outputs": [],
   "source": [
    "\n",
    "# see if some countries have unexpected low or high death rates given number of cases\n",
    "covidtotalsonly['total_cases_q'] = pd.\\\n",
    "  qcut(covidtotalsonly['total_cases'],\n",
    "  labels=['very low','low','medium',\n",
    "  'high','very high'], q=5, precision=0)\n",
    "covidtotalsonly['total_deaths_q'] = pd.\\\n",
    "  qcut(covidtotalsonly['total_deaths'],\n",
    "  labels=['very low','low','medium',\n",
    "  'high','very high'], q=5, precision=0)\n",
    "\n"
   ]
  },
  {
   "cell_type": "code",
   "execution_count": null,
   "id": "fa1f403a",
   "metadata": {},
   "outputs": [],
   "source": [
    "pd.crosstab(covidtotalsonly.total_cases_q,\n",
    "  covidtotalsonly.total_deaths_q)\n",
    "\n",
    "covidtotals.loc[(covidtotalsonly.total_cases_q==\"very high\") & (covidtotalsonly.total_deaths_q==\"medium\")].T\n",
    "covidtotals.loc[(covidtotalsonly.total_cases_q==\"low\") & (covidtotalsonly.total_deaths_q==\"high\")].T\n",
    "covidtotals.hosp_beds.mean()\n",
    "\n",
    "# do a scatterplot of total_cases by total_deaths\n",
    "ax = sns.regplot(x=\"total_cases\", y=\"total_deaths\", data=covidtotals)\n",
    "ax.set(xlabel=\"Cases\", ylabel=\"Deaths\", title=\"Total Covid Cases and Deaths by Country\")\n",
    "plt.show()\n",
    "\n",
    "covidtotals.loc[(covidtotals.total_cases<300000) & (covidtotals.total_deaths>20000)].T\n",
    "covidtotals.loc[(covidtotals.total_cases>300000) & (covidtotals.total_deaths<10000)].T\n",
    "\n",
    "# do a scatterplot of total_cases by total_deaths\n",
    "ax = sns.regplot(x=\"total_cases_pm\", y=\"total_deaths_pm\", data=covidtotals)\n",
    "ax.set(xlabel=\"Cases Per Million\", ylabel=\"Deaths Per Million\", title=\"Total Covid Cases per Million and Deaths per Million by Country\")\n",
    "plt.show()\n",
    "\n",
    "covidtotals.loc[(covidtotals.total_cases_pm<7500) \\\n",
    "  & (covidtotals.total_deaths_pm>250),\\\n",
    "  ['location','total_cases_pm','total_deaths_pm']]\n",
    "covidtotals.loc[(covidtotals.total_cases_pm>5000) \\\n",
    "  & (covidtotals.total_deaths_pm<=50), \\\n",
    "  ['location','total_cases_pm','total_deaths_pm']]\n",
    "\n",
    "\n",
    "\n"
   ]
  },
  {
   "cell_type": "code",
   "execution_count": null,
   "id": "e55a9f6f",
   "metadata": {},
   "outputs": [],
   "source": []
  }
 ],
 "metadata": {
  "kernelspec": {
   "display_name": "Python 3",
   "language": "python",
   "name": "python3"
  },
  "language_info": {
   "codemirror_mode": {
    "name": "ipython",
    "version": 3
   },
   "file_extension": ".py",
   "mimetype": "text/x-python",
   "name": "python",
   "nbconvert_exporter": "python",
   "pygments_lexer": "ipython3",
   "version": "3.8.8"
  }
 },
 "nbformat": 4,
 "nbformat_minor": 5
}
