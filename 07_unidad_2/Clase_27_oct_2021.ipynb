{
 "cells": [
  {
   "cell_type": "markdown",
   "id": "f1654e4f",
   "metadata": {},
   "source": [
    "# Limpieza de datos en Pandas\n",
    "\n",
    "##### Clase del 27 de octubre de 2021\n",
    "\n"
   ]
  },
  {
   "cell_type": "markdown",
   "id": "3d4b2606",
   "metadata": {},
   "source": [
    "Hoy veremos métodos básicos para la limpieza de datos, para esto utilizaremos el conjunto de datos de viviendas de Rusia descargado de __Kaggle__. \n",
    "\n",
    "Lo que haremos será __predecir__ fluctuaciones del precio de las viviendas en Rusia."
   ]
  },
  {
   "cell_type": "markdown",
   "id": "de674afb",
   "metadata": {},
   "source": [
    "## ¿Qué es Kaggle?  \n",
    " \n",
    "En el campo de Machine Learning, hay muchos recursos disponibles, como vimos en los ejercicios 1 y 2, tenemos información del COVID, pero también hay miles de lugares en línea para aprender sobre esta área.\n",
    "\n",
    "Uno de estos lugares es __Kaggle__.\n",
    "\n",
    "__Kaggle__ es una plataforma que tiene excelentes recursos para __Machine Learning__ y __Ciencia de Datos__. \n",
    "\n",
    "Incluso hay competiciones de Machine Learning que tienen premios de más de USD 1 millón y cientos de competidores."
   ]
  },
  {
   "cell_type": "markdown",
   "id": "64fe0a83",
   "metadata": {},
   "source": [
    "Los términos que utiliza Kaggle son:\n",
    "\n",
    "__Competiciones__: Kaggle fue creado para esto. Consiste en pruebas de habilidad de modelado de Machine Learning y permiten aprender las técnicas en esta área y perfeccionar habilidades en problemas interesantes utilizando datos reales.\n",
    "\n",
    "__Dataset o conjuntos de datos__: Hay miles de conjuntos de datos de todos los tipos y tamaños que se pueden descargar y usar de manera gratuita. Hay muchos conjuntos de datos útiles para probar nuestros modelos o técnicas de machine learning.\n",
    "  \n",
    "\n",
    "__Kernels__:  Consisten en entornos de programación en línea que se ejecutan en los servidores de Kaggle, se puede escribir scripts en _Python_, _R_ o _Julia_. Estos kernels son gratuitos y no  se debe  configurar ni instalar nada en tu computador. Los kernels se pueden utilizar para analizar cualquier conjunto de datos y competir en competiciones de Machine Learning. Se puede copiar y construir en kernels existentes de otros usuarios y compartirlos con la comunidad para obtener comentarios.\n",
    "\n",
    "__Discusiones__: es un lugar para hacer preguntas y obtener consejos de miles de expertos en la comunidad de Kaggle.\n",
    "\n",
    "__Aprender__: una serie de pistar de Machine Learning y de la ciencia de datos que cubren SQL y Deep Learning, todos usando Jupyter Notebooks.\n",
    "\n",
    "\n",
    "Si quieren conocer más información en castellano de Kaggle, pueden visitar el sitio de donde [recopilé esta info](https://aprendeia.com/todo-lo-que-tienes-que-saber-sobre-kaggle/).\n",
    "\n",
    "Los invito a registrarse en [Kaggle](https://www.kaggle.com/).\n"
   ]
  },
  {
   "cell_type": "markdown",
   "id": "a8e01d48",
   "metadata": {},
   "source": [
    "# La importancia de la limpieza de los datos\n",
    "\n",
    "Antes de ajustar un modelo estadístico o de aprendizaje automático (Machine Learning), siempre tenemos que limpiar los datos. \n",
    "  \n",
    "Ningún modelo crea resultados significativos con datos desordenados.\n",
    "\n",
    "Esto es conocido como el principio de __GIGO__\n",
    "  \n",
    "  \n",
    "    Garbage In -> Garbage Out\n",
    "  \n",
    "\n"
   ]
  },
  {
   "cell_type": "markdown",
   "id": "0d3c6ff4",
   "metadata": {},
   "source": [
    "![Imagen de Garbage In, Garbage Out](https://ivyrosecreations.com/wp/wp-content/uploads/2015/04/garbage-in-garbage-out.jpg)\n",
    "\n",
    "Imagen:https://ivyrosecreations.com/wp/gigo/ \n"
   ]
  },
  {
   "cell_type": "markdown",
   "id": "2b0c7c82",
   "metadata": {},
   "source": [
    "### Definición de Limpieza de Datos\n",
    "  \n",
    "  \n",
    "__La limpieza de datos__ es el proceso de __detectar y corregir o eliminar__ registros corruptos, inexactos o vacíos de un conjunto de registros, tablas o bases de datos. Queremos  identificar partes incompletas, incorrectas, inexactas o irrelevantes de los datos y luego reemplazar, modificar o eliminar los datos sucios o burdos.\n",
    "  \n",
    "El resultado será un __conjunto de datos de alta calidad__ que nos permitirá generar modelos/predicciones o aprendizaje de manera razonable."
   ]
  },
  {
   "cell_type": "markdown",
   "id": "d40e2274",
   "metadata": {},
   "source": [
    "![Imagen robots](https://www.kdnuggets.com/images/cartoon-machine-learning-class.jpg)\n",
    "\n",
    "Imagen:[kdnuggets](https://www.kdnuggets.com/2017/09/cartoon-machine-learning-class.html)"
   ]
  },
  {
   "cell_type": "markdown",
   "id": "cee0eab1",
   "metadata": {},
   "source": []
  },
  {
   "cell_type": "code",
   "execution_count": null,
   "id": "c2bbcad4",
   "metadata": {},
   "outputs": [],
   "source": []
  },
  {
   "cell_type": "code",
   "execution_count": null,
   "id": "fe1cf4c9",
   "metadata": {},
   "outputs": [],
   "source": []
  }
 ],
 "metadata": {
  "kernelspec": {
   "display_name": "Python 3",
   "language": "python",
   "name": "python3"
  },
  "language_info": {
   "codemirror_mode": {
    "name": "ipython",
    "version": 3
   },
   "file_extension": ".py",
   "mimetype": "text/x-python",
   "name": "python",
   "nbconvert_exporter": "python",
   "pygments_lexer": "ipython3",
   "version": "3.8.8"
  }
 },
 "nbformat": 4,
 "nbformat_minor": 5
}
