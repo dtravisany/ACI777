{
 "cells": [
  {
   "cell_type": "code",
   "execution_count": 2,
   "id": "acec1040",
   "metadata": {},
   "outputs": [],
   "source": [
    "import pandas as pd\n",
    "import numpy as np\n",
    "import matplotlib.pyplot as plt"
   ]
  },
  {
   "cell_type": "code",
   "execution_count": 3,
   "id": "4852d211",
   "metadata": {},
   "outputs": [],
   "source": [
    "pd.set_option('display.width', 80)\n",
    "pd.set_option('display.max_columns', 7)\n",
    "pd.set_option('display.max_rows', 20)\n",
    "pd.options.display.float_format = '{:,.0f}'.format\n",
    "covidtotals = pd.read_csv(\"data/covidnan.csv\")\n",
    "covidtotals.set_index(\"iso_code\", inplace=True)\n"
   ]
  },
  {
   "cell_type": "code",
   "execution_count": 4,
   "id": "793037ef",
   "metadata": {},
   "outputs": [],
   "source": [
    "\n",
    "# set up the cumulative and demographic columns\n",
    "totvars = ['location','total_cases','total_deaths','total_cases_pm',\n",
    "  'total_deaths_pm']\n",
    "demovars = ['population','pop_density','median_age','gdp_per_capita',\n",
    "  'hosp_beds']\n"
   ]
  },
  {
   "cell_type": "code",
   "execution_count": 6,
   "id": "06388c90",
   "metadata": {},
   "outputs": [
    {
     "data": {
      "text/plain": [
       "pandas.core.series.Series"
      ]
     },
     "execution_count": 6,
     "metadata": {},
     "output_type": "execute_result"
    }
   ],
   "source": [
    "# check the demographic columns for missing\n",
    "covidtotals[demovars].isnull().sum(axis=0)\n",
    "demovarsmisscnt = covidtotals[demovars].isnull().sum(axis=1)\n",
    "demovarsmisscnt.value_counts()\n",
    "covidtotals.loc[demovarsmisscnt>=3, ['location'] + demovars].head(5).T\n",
    "type(demovarsmisscnt)"
   ]
  },
  {
   "cell_type": "code",
   "execution_count": null,
   "id": "420f1174",
   "metadata": {},
   "outputs": [],
   "source": [
    "# check the cumulative columns for missing\n",
    "covidtotals[totvars].isnull().sum(axis=0)\n",
    "totvarsmisscnt = covidtotals[totvars].isnull().sum(axis=1)\n",
    "totvarsmisscnt.value_counts()\n",
    "covidtotals.loc[totvarsmisscnt>0].T"
   ]
  },
  {
   "cell_type": "code",
   "execution_count": 5,
   "id": "86168bce",
   "metadata": {},
   "outputs": [
    {
     "data": {
      "text/plain": [
       "location           0\n",
       "total_cases        0\n",
       "total_deaths       0\n",
       "total_cases_pm     0\n",
       "total_deaths_pm    0\n",
       "dtype: int64"
      ]
     },
     "execution_count": 5,
     "metadata": {},
     "output_type": "execute_result"
    }
   ],
   "source": [
    "\n",
    "\n",
    "\n",
    "\n",
    "\n",
    "\n",
    "# use the fillna method to fix the mixing case data\n",
    "covidtotals.total_cases_pm.fillna(covidtotals.total_cases/\n",
    "  (covidtotals.population/1000000), inplace=True)\n",
    "covidtotals.total_deaths_pm.fillna(covidtotals.total_deaths/\n",
    "  (covidtotals.population/1000000), inplace=True)\n",
    "covidtotals[totvars].isnull().sum(axis=0)"
   ]
  },
  {
   "cell_type": "code",
   "execution_count": null,
   "id": "06a7c9e1",
   "metadata": {},
   "outputs": [],
   "source": []
  }
 ],
 "metadata": {
  "kernelspec": {
   "display_name": "Python 3",
   "language": "python",
   "name": "python3"
  },
  "language_info": {
   "codemirror_mode": {
    "name": "ipython",
    "version": 3
   },
   "file_extension": ".py",
   "mimetype": "text/x-python",
   "name": "python",
   "nbconvert_exporter": "python",
   "pygments_lexer": "ipython3",
   "version": "3.8.8"
  }
 },
 "nbformat": 4,
 "nbformat_minor": 5
}
