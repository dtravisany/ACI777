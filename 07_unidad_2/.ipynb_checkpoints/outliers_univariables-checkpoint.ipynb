{
 "cells": [
  {
   "cell_type": "code",
   "execution_count": 16,
   "id": "297a6398",
   "metadata": {},
   "outputs": [],
   "source": [
    "import numpy as np\n",
    "import matplotlib.pyplot as plt"
   ]
  },
  {
   "cell_type": "markdown",
   "id": "ff14aa9f",
   "metadata": {},
   "source": [
    "10,10,10,10,10"
   ]
  },
  {
   "cell_type": "code",
   "execution_count": 1,
   "id": "1d9beec5",
   "metadata": {},
   "outputs": [
    {
     "data": {
      "text/plain": [
       "10.0"
      ]
     },
     "execution_count": 1,
     "metadata": {},
     "output_type": "execute_result"
    }
   ],
   "source": [
    "(10+10+10+10+10)/5"
   ]
  },
  {
   "cell_type": "code",
   "execution_count": 18,
   "id": "d1b43fdd",
   "metadata": {},
   "outputs": [
    {
     "data": {
      "text/plain": [
       "10.0"
      ]
     },
     "execution_count": 18,
     "metadata": {},
     "output_type": "execute_result"
    }
   ],
   "source": [
    "\n",
    "(10+10+10+10+10)/5"
   ]
  },
  {
   "cell_type": "code",
   "execution_count": 24,
   "id": "4e42c736",
   "metadata": {},
   "outputs": [],
   "source": [
    "a =np.array([10,10,10,10])"
   ]
  },
  {
   "cell_type": "code",
   "execution_count": 25,
   "id": "d8409750",
   "metadata": {},
   "outputs": [
    {
     "data": {
      "text/plain": [
       "[<matplotlib.lines.Line2D at 0x7f2535114160>]"
      ]
     },
     "execution_count": 25,
     "metadata": {},
     "output_type": "execute_result"
    },
    {
     "data": {
      "image/png": "[encoded data removed]",
      "text/plain": [
       "<Figure size 432x288 with 1 Axes>"
      ]
     },
     "metadata": {
      "needs_background": "light"
     },
     "output_type": "display_data"
    }
   ],
   "source": [
    "plt.plot(a)"
   ]
  },
  {
   "cell_type": "code",
   "execution_count": 26,
   "id": "9018e9c6",
   "metadata": {},
   "outputs": [],
   "source": [
    "import pandas as pd\n",
    "import numpy as np\n",
    "import matplotlib.pyplot as plt\n",
    "covidtotales = pd.read_csv(\"data/covidtotals.csv\")\n",
    "covidtotales.set_index(\"iso_code\", inplace=True)\n",
    "totales=['location','total_cases','total_deaths','total_cases_pm','total_deaths_pm']\n",
    "demograficas=['population','pop_density','median_age','gdp_per_capita','hosp_beds']"
   ]
  },
  {
   "cell_type": "code",
   "execution_count": 27,
   "id": "382bb01a",
   "metadata": {},
   "outputs": [],
   "source": [
    "import statsmodels.api as sm\n",
    "from statsmodels.graphics.gofplots import qqline\n",
    "import scipy.stats  as scistats"
   ]
  },
  {
   "cell_type": "markdown",
   "id": "41c1d479",
   "metadata": {},
   "source": [
    "# PROFUNDIZAR LOS PAQUETES VISTOS"
   ]
  },
  {
   "cell_type": "code",
   "execution_count": 28,
   "id": "d66e2b00",
   "metadata": {},
   "outputs": [],
   "source": [
    "\n",
    "covidtotales_cumu = covidtotales.loc[:, totales] "
   ]
  },
  {
   "cell_type": "code",
   "execution_count": 29,
   "id": "7fa98216",
   "metadata": {},
   "outputs": [
    {
     "data": {
      "text/html": [
       "<div>\n",
       "<style scoped>\n",
       "    .dataframe tbody tr th:only-of-type {\n",
       "        vertical-align: middle;\n",
       "    }\n",
       "\n",
       "    .dataframe tbody tr th {\n",
       "        vertical-align: top;\n",
       "    }\n",
       "\n",
       "    .dataframe thead th {\n",
       "        text-align: right;\n",
       "    }\n",
       "</style>\n",
       "<table border=\"1\" class=\"dataframe\">\n",
       "  <thead>\n",
       "    <tr style=\"text-align: right;\">\n",
       "      <th></th>\n",
       "      <th>location</th>\n",
       "      <th>total_cases</th>\n",
       "      <th>total_deaths</th>\n",
       "      <th>total_cases_pm</th>\n",
       "      <th>total_deaths_pm</th>\n",
       "    </tr>\n",
       "    <tr>\n",
       "      <th>iso_code</th>\n",
       "      <th></th>\n",
       "      <th></th>\n",
       "      <th></th>\n",
       "      <th></th>\n",
       "      <th></th>\n",
       "    </tr>\n",
       "  </thead>\n",
       "  <tbody>\n",
       "    <tr>\n",
       "      <th>AFG</th>\n",
       "      <td>Afghanistan</td>\n",
       "      <td>15205</td>\n",
       "      <td>257</td>\n",
       "      <td>390.589</td>\n",
       "      <td>6.602</td>\n",
       "    </tr>\n",
       "    <tr>\n",
       "      <th>ALB</th>\n",
       "      <td>Albania</td>\n",
       "      <td>1137</td>\n",
       "      <td>33</td>\n",
       "      <td>395.093</td>\n",
       "      <td>11.467</td>\n",
       "    </tr>\n",
       "    <tr>\n",
       "      <th>DZA</th>\n",
       "      <td>Algeria</td>\n",
       "      <td>9394</td>\n",
       "      <td>653</td>\n",
       "      <td>214.225</td>\n",
       "      <td>14.891</td>\n",
       "    </tr>\n",
       "    <tr>\n",
       "      <th>AND</th>\n",
       "      <td>Andorra</td>\n",
       "      <td>764</td>\n",
       "      <td>51</td>\n",
       "      <td>9888.048</td>\n",
       "      <td>660.066</td>\n",
       "    </tr>\n",
       "    <tr>\n",
       "      <th>AGO</th>\n",
       "      <td>Angola</td>\n",
       "      <td>86</td>\n",
       "      <td>4</td>\n",
       "      <td>2.617</td>\n",
       "      <td>0.122</td>\n",
       "    </tr>\n",
       "    <tr>\n",
       "      <th>...</th>\n",
       "      <td>...</td>\n",
       "      <td>...</td>\n",
       "      <td>...</td>\n",
       "      <td>...</td>\n",
       "      <td>...</td>\n",
       "    </tr>\n",
       "    <tr>\n",
       "      <th>VNM</th>\n",
       "      <td>Vietnam</td>\n",
       "      <td>328</td>\n",
       "      <td>0</td>\n",
       "      <td>3.370</td>\n",
       "      <td>0.000</td>\n",
       "    </tr>\n",
       "    <tr>\n",
       "      <th>ESH</th>\n",
       "      <td>Western Sahara</td>\n",
       "      <td>23</td>\n",
       "      <td>1</td>\n",
       "      <td>38.505</td>\n",
       "      <td>1.674</td>\n",
       "    </tr>\n",
       "    <tr>\n",
       "      <th>YEM</th>\n",
       "      <td>Yemen</td>\n",
       "      <td>323</td>\n",
       "      <td>80</td>\n",
       "      <td>10.829</td>\n",
       "      <td>2.682</td>\n",
       "    </tr>\n",
       "    <tr>\n",
       "      <th>ZMB</th>\n",
       "      <td>Zambia</td>\n",
       "      <td>1057</td>\n",
       "      <td>7</td>\n",
       "      <td>57.496</td>\n",
       "      <td>0.381</td>\n",
       "    </tr>\n",
       "    <tr>\n",
       "      <th>ZWE</th>\n",
       "      <td>Zimbabwe</td>\n",
       "      <td>178</td>\n",
       "      <td>4</td>\n",
       "      <td>11.976</td>\n",
       "      <td>0.269</td>\n",
       "    </tr>\n",
       "  </tbody>\n",
       "</table>\n",
       "<p>210 rows × 5 columns</p>\n",
       "</div>"
      ],
      "text/plain": [
       "                location  total_cases  total_deaths  total_cases_pm  \\\n",
       "iso_code                                                              \n",
       "AFG          Afghanistan        15205           257         390.589   \n",
       "ALB              Albania         1137            33         395.093   \n",
       "DZA              Algeria         9394           653         214.225   \n",
       "AND              Andorra          764            51        9888.048   \n",
       "AGO               Angola           86             4           2.617   \n",
       "...                  ...          ...           ...             ...   \n",
       "VNM              Vietnam          328             0           3.370   \n",
       "ESH       Western Sahara           23             1          38.505   \n",
       "YEM                Yemen          323            80          10.829   \n",
       "ZMB               Zambia         1057             7          57.496   \n",
       "ZWE             Zimbabwe          178             4          11.976   \n",
       "\n",
       "          total_deaths_pm  \n",
       "iso_code                   \n",
       "AFG                 6.602  \n",
       "ALB                11.467  \n",
       "DZA                14.891  \n",
       "AND               660.066  \n",
       "AGO                 0.122  \n",
       "...                   ...  \n",
       "VNM                 0.000  \n",
       "ESH                 1.674  \n",
       "YEM                 2.682  \n",
       "ZMB                 0.381  \n",
       "ZWE                 0.269  \n",
       "\n",
       "[210 rows x 5 columns]"
      ]
     },
     "execution_count": 29,
     "metadata": {},
     "output_type": "execute_result"
    }
   ],
   "source": [
    "covidtotales_cumu"
   ]
  },
  {
   "cell_type": "code",
   "execution_count": 31,
   "id": "48ee4e8a",
   "metadata": {},
   "outputs": [
    {
     "data": {
      "text/html": [
       "<div>\n",
       "<style scoped>\n",
       "    .dataframe tbody tr th:only-of-type {\n",
       "        vertical-align: middle;\n",
       "    }\n",
       "\n",
       "    .dataframe tbody tr th {\n",
       "        vertical-align: top;\n",
       "    }\n",
       "\n",
       "    .dataframe thead th {\n",
       "        text-align: right;\n",
       "    }\n",
       "</style>\n",
       "<table border=\"1\" class=\"dataframe\">\n",
       "  <thead>\n",
       "    <tr style=\"text-align: right;\">\n",
       "      <th></th>\n",
       "      <th>total_cases</th>\n",
       "      <th>total_deaths</th>\n",
       "      <th>total_cases_pm</th>\n",
       "      <th>total_deaths_pm</th>\n",
       "    </tr>\n",
       "  </thead>\n",
       "  <tbody>\n",
       "    <tr>\n",
       "      <th>count</th>\n",
       "      <td>2.100000e+02</td>\n",
       "      <td>210.000000</td>\n",
       "      <td>209.000000</td>\n",
       "      <td>209.000000</td>\n",
       "    </tr>\n",
       "    <tr>\n",
       "      <th>mean</th>\n",
       "      <td>2.921614e+04</td>\n",
       "      <td>1770.714286</td>\n",
       "      <td>1361.842909</td>\n",
       "      <td>55.925440</td>\n",
       "    </tr>\n",
       "    <tr>\n",
       "      <th>std</th>\n",
       "      <td>1.363978e+05</td>\n",
       "      <td>8705.565857</td>\n",
       "      <td>2629.894101</td>\n",
       "      <td>145.081876</td>\n",
       "    </tr>\n",
       "    <tr>\n",
       "      <th>min</th>\n",
       "      <td>0.000000e+00</td>\n",
       "      <td>0.000000</td>\n",
       "      <td>0.894000</td>\n",
       "      <td>0.000000</td>\n",
       "    </tr>\n",
       "    <tr>\n",
       "      <th>25%</th>\n",
       "      <td>1.757500e+02</td>\n",
       "      <td>4.000000</td>\n",
       "      <td>96.785000</td>\n",
       "      <td>0.893000</td>\n",
       "    </tr>\n",
       "    <tr>\n",
       "      <th>50%</th>\n",
       "      <td>1.242500e+03</td>\n",
       "      <td>25.500000</td>\n",
       "      <td>281.997000</td>\n",
       "      <td>6.214000</td>\n",
       "    </tr>\n",
       "    <tr>\n",
       "      <th>75%</th>\n",
       "      <td>1.011700e+04</td>\n",
       "      <td>241.250000</td>\n",
       "      <td>1803.318000</td>\n",
       "      <td>32.158000</td>\n",
       "    </tr>\n",
       "    <tr>\n",
       "      <th>max</th>\n",
       "      <td>1.790191e+06</td>\n",
       "      <td>104383.000000</td>\n",
       "      <td>19771.348000</td>\n",
       "      <td>1237.551000</td>\n",
       "    </tr>\n",
       "  </tbody>\n",
       "</table>\n",
       "</div>"
      ],
      "text/plain": [
       "        total_cases   total_deaths  total_cases_pm  total_deaths_pm\n",
       "count  2.100000e+02     210.000000      209.000000       209.000000\n",
       "mean   2.921614e+04    1770.714286     1361.842909        55.925440\n",
       "std    1.363978e+05    8705.565857     2629.894101       145.081876\n",
       "min    0.000000e+00       0.000000        0.894000         0.000000\n",
       "25%    1.757500e+02       4.000000       96.785000         0.893000\n",
       "50%    1.242500e+03      25.500000      281.997000         6.214000\n",
       "75%    1.011700e+04     241.250000     1803.318000        32.158000\n",
       "max    1.790191e+06  104383.000000    19771.348000      1237.551000"
      ]
     },
     "execution_count": 31,
     "metadata": {},
     "output_type": "execute_result"
    }
   ],
   "source": [
    "covidtotales_cumu.describe()"
   ]
  },
  {
   "cell_type": "code",
   "execution_count": 32,
   "id": "fa7cc906",
   "metadata": {},
   "outputs": [],
   "source": [
    "pd.options.display.float_format='{:,.2f}'.format"
   ]
  },
  {
   "cell_type": "code",
   "execution_count": 33,
   "id": "5a6e6059",
   "metadata": {},
   "outputs": [
    {
     "data": {
      "text/html": [
       "<div>\n",
       "<style scoped>\n",
       "    .dataframe tbody tr th:only-of-type {\n",
       "        vertical-align: middle;\n",
       "    }\n",
       "\n",
       "    .dataframe tbody tr th {\n",
       "        vertical-align: top;\n",
       "    }\n",
       "\n",
       "    .dataframe thead th {\n",
       "        text-align: right;\n",
       "    }\n",
       "</style>\n",
       "<table border=\"1\" class=\"dataframe\">\n",
       "  <thead>\n",
       "    <tr style=\"text-align: right;\">\n",
       "      <th></th>\n",
       "      <th>total_cases</th>\n",
       "      <th>total_deaths</th>\n",
       "      <th>total_cases_pm</th>\n",
       "      <th>total_deaths_pm</th>\n",
       "    </tr>\n",
       "  </thead>\n",
       "  <tbody>\n",
       "    <tr>\n",
       "      <th>0.00</th>\n",
       "      <td>0.00</td>\n",
       "      <td>0.00</td>\n",
       "      <td>0.89</td>\n",
       "      <td>0.00</td>\n",
       "    </tr>\n",
       "    <tr>\n",
       "      <th>0.10</th>\n",
       "      <td>22.90</td>\n",
       "      <td>0.00</td>\n",
       "      <td>18.49</td>\n",
       "      <td>0.00</td>\n",
       "    </tr>\n",
       "    <tr>\n",
       "      <th>0.20</th>\n",
       "      <td>105.20</td>\n",
       "      <td>2.00</td>\n",
       "      <td>56.74</td>\n",
       "      <td>0.40</td>\n",
       "    </tr>\n",
       "    <tr>\n",
       "      <th>0.30</th>\n",
       "      <td>302.00</td>\n",
       "      <td>6.70</td>\n",
       "      <td>118.23</td>\n",
       "      <td>1.73</td>\n",
       "    </tr>\n",
       "    <tr>\n",
       "      <th>0.40</th>\n",
       "      <td>762.00</td>\n",
       "      <td>12.00</td>\n",
       "      <td>214.92</td>\n",
       "      <td>3.97</td>\n",
       "    </tr>\n",
       "    <tr>\n",
       "      <th>0.50</th>\n",
       "      <td>1,242.50</td>\n",
       "      <td>25.50</td>\n",
       "      <td>282.00</td>\n",
       "      <td>6.21</td>\n",
       "    </tr>\n",
       "    <tr>\n",
       "      <th>0.60</th>\n",
       "      <td>2,514.60</td>\n",
       "      <td>54.60</td>\n",
       "      <td>546.05</td>\n",
       "      <td>12.56</td>\n",
       "    </tr>\n",
       "    <tr>\n",
       "      <th>0.70</th>\n",
       "      <td>6,959.80</td>\n",
       "      <td>137.20</td>\n",
       "      <td>1,074.03</td>\n",
       "      <td>26.06</td>\n",
       "    </tr>\n",
       "    <tr>\n",
       "      <th>0.80</th>\n",
       "      <td>16,847.20</td>\n",
       "      <td>323.20</td>\n",
       "      <td>2,208.74</td>\n",
       "      <td>50.29</td>\n",
       "    </tr>\n",
       "    <tr>\n",
       "      <th>0.90</th>\n",
       "      <td>46,513.10</td>\n",
       "      <td>1,616.90</td>\n",
       "      <td>3,772.00</td>\n",
       "      <td>139.53</td>\n",
       "    </tr>\n",
       "    <tr>\n",
       "      <th>1.00</th>\n",
       "      <td>1,790,191.00</td>\n",
       "      <td>104,383.00</td>\n",
       "      <td>19,771.35</td>\n",
       "      <td>1,237.55</td>\n",
       "    </tr>\n",
       "  </tbody>\n",
       "</table>\n",
       "</div>"
      ],
      "text/plain": [
       "      total_cases  total_deaths  total_cases_pm  total_deaths_pm\n",
       "0.00         0.00          0.00            0.89             0.00\n",
       "0.10        22.90          0.00           18.49             0.00\n",
       "0.20       105.20          2.00           56.74             0.40\n",
       "0.30       302.00          6.70          118.23             1.73\n",
       "0.40       762.00         12.00          214.92             3.97\n",
       "0.50     1,242.50         25.50          282.00             6.21\n",
       "0.60     2,514.60         54.60          546.05            12.56\n",
       "0.70     6,959.80        137.20        1,074.03            26.06\n",
       "0.80    16,847.20        323.20        2,208.74            50.29\n",
       "0.90    46,513.10      1,616.90        3,772.00           139.53\n",
       "1.00 1,790,191.00    104,383.00       19,771.35         1,237.55"
      ]
     },
     "execution_count": 33,
     "metadata": {},
     "output_type": "execute_result"
    }
   ],
   "source": [
    "covidtotales_cumu.quantile(np.arange(0.0,1.1,0.1))"
   ]
  },
  {
   "cell_type": "code",
   "execution_count": 34,
   "id": "8c359514",
   "metadata": {},
   "outputs": [
    {
     "data": {
      "text/plain": [
       "total_cases       10.80\n",
       "total_deaths       8.93\n",
       "total_cases_pm     4.39\n",
       "total_deaths_pm    4.66\n",
       "dtype: float64"
      ]
     },
     "execution_count": 34,
     "metadata": {},
     "output_type": "execute_result"
    }
   ],
   "source": [
    "covidtotales_cumu.skew()"
   ]
  },
  {
   "cell_type": "code",
   "execution_count": 36,
   "id": "dfa78dad",
   "metadata": {},
   "outputs": [
    {
     "data": {
      "text/plain": [
       "total_cases       134.98\n",
       "total_deaths       95.74\n",
       "total_cases_pm     25.14\n",
       "total_deaths_pm    27.11\n",
       "dtype: float64"
      ]
     },
     "execution_count": 36,
     "metadata": {},
     "output_type": "execute_result"
    }
   ],
   "source": [
    "covidtotales_cumu.kurtosis()"
   ]
  },
  {
   "cell_type": "code",
   "execution_count": 38,
   "id": "caa2d5bf",
   "metadata": {},
   "outputs": [
    {
     "data": {
      "text/plain": [
       "29216.138095238097"
      ]
     },
     "execution_count": 38,
     "metadata": {},
     "output_type": "execute_result"
    }
   ],
   "source": [
    "covidtotales_cumu.total_cases.mean()"
   ]
  },
  {
   "cell_type": "code",
   "execution_count": 39,
   "id": "18588632",
   "metadata": {},
   "outputs": [
    {
     "data": {
      "text/plain": [
       "(210, 5)"
      ]
     },
     "execution_count": 39,
     "metadata": {},
     "output_type": "execute_result"
    }
   ],
   "source": [
    "covidtotales_cumu.shape"
   ]
  },
  {
   "cell_type": "code",
   "execution_count": 41,
   "id": "bbebe9b5",
   "metadata": {},
   "outputs": [],
   "source": [
    "def testear_normalidad(var, df):\n",
    "    stat, p = scistats.shapiro(df[var])\n",
    "    return p"
   ]
  },
  {
   "cell_type": "code",
   "execution_count": null,
   "id": "d48878a7",
   "metadata": {},
   "outputs": [],
   "source": []
  }
 ],
 "metadata": {
  "kernelspec": {
   "display_name": "Python 3",
   "language": "python",
   "name": "python3"
  },
  "language_info": {
   "codemirror_mode": {
    "name": "ipython",
    "version": 3
   },
   "file_extension": ".py",
   "mimetype": "text/x-python",
   "name": "python",
   "nbconvert_exporter": "python",
   "pygments_lexer": "ipython3",
   "version": "3.8.8"
  }
 },
 "nbformat": 4,
 "nbformat_minor": 5
}
