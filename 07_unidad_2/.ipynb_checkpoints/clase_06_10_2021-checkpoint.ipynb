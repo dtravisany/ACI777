{
 "cells": [
  {
   "cell_type": "markdown",
   "metadata": {},
   "source": [
    "# Probabilidad y Estadística con Python"
   ]
  },
  {
   "cell_type": "markdown",
   "metadata": {},
   "source": [
    "Clase del 06 de Octubre del 2021"
   ]
  },
  {
   "cell_type": "markdown",
   "metadata": {},
   "source": [
    "<img alt=\"Estadistica\" title=\"Estadistica\" src=\"http://relopezbriega.github.io/images/stats.png\" width=\"700\">"
   ]
  },
  {
   "cell_type": "markdown",
   "metadata": {},
   "source": [
    "Como bien hemos planteado a lo largo del curso ACI777, el tener conocimiento de manipulación de datos se hace fundamental en estos tiempos debido a la acumulación masiva de datos en diversas áreas como astronomía, economía, biología, química entre otras.  \n",
    "  \n",
    "Estamos frente al fenómeno de [Big Data](http://es.wikipedia.org/wiki/Big_data) y manipular los conceptos de *[probabilidad](https://es.wikipedia.org/wiki/Probabilidad)* y *[estadística](http://es.wikipedia.org/wiki/Estad%C3%ADstica)*  resulta fundamental. Estrategias como *[data mining](http://es.wikipedia.org/wiki/Miner%C3%ADa_de_datos)* y *[machine learning](http://es.wikipedia.org/wiki/Aprendizaje_autom%C3%A1tico)* empujados principalmente por la explosión de datos presentan la base para la *[Ciencia de Datos](http://en.wikipedia.org/wiki/Data_science)*.\n"
   ]
  },
  {
   "cell_type": "markdown",
   "metadata": {},
   "source": [
    "## ¿Qué es la Estadística?\n",
    "\n",
    "La *[estadística](http://es.wikipedia.org/wiki/Estad%C3%ADstica)* suele ser definida como la ciencia de aprender de los *[datos](https://es.wikipedia.org/wiki/Dato)* o como la ciencia de obtener conclusiones en la presencia de incertidumbre. Se relaciona principalmente con la recolección, análisis e interpretación de *[datos](https://es.wikipedia.org/wiki/Dato)*, así como también con la efectiva comunicación y presentación de los resultados basados en esos *[datos](https://es.wikipedia.org/wiki/Dato)*. Como por *[datos](https://es.wikipedia.org/wiki/Dato)* entendemos a cualquier clase de información grabada, la *[estadística](http://es.wikipedia.org/wiki/Estad%C3%ADstica)* juego un rol importante en muchas disciplinas científicas.\n",
    "\n",
    "La *[estadística](http://es.wikipedia.org/wiki/Estad%C3%ADstica)* puede ser muy importante para una efectiva toma de decisiones. Existe una gran cantidad de valiosa información escondida entre los *[datos](https://es.wikipedia.org/wiki/Dato)*, pero esta información no suele ser fácilmente accesible, la *[estadística](http://es.wikipedia.org/wiki/Estad%C3%ADstica)* nos brinda los principios fundamentales que nos permiten extraer y entender esa información; tambien nos proporciona las herramientas necesarias para verificar la calidad de nuestros *[datos](https://es.wikipedia.org/wiki/Dato)* y nuestra información.\n",
    "\n",
    "La *[estadística](http://es.wikipedia.org/wiki/Estad%C3%ADstica)* suele ser dividida en dos grandes ramas:\n",
    "\n",
    "1. La *[estadística descriptiva](https://es.wikipedia.org/wiki/Estad%C3%ADstica_descriptiva)*: La cual se dedica a recolectar, ordenar, analizar y representar a un [conjunto de datos](https://es.wikipedia.org/wiki/Conjunto_de_datos), con el fin de describir apropiadamente las características de este. Calcula los parámetros estadísticos que describen el conjunto estudiado. Algunas de las herramientas que utiliza son gráficos, medidas de frecuencias, medidas de centralización, medidas de posición, medidas de dispersión, entre otras.\n",
    "\n",
    "2. La *[estadistica inferencial](https://es.wikipedia.org/wiki/Estad%C3%ADstica_inferencial)*: La cual estudia cómo sacar conclusiones generales para toda la [población](https://es.wikipedia.org/wiki/Poblaci%C3%B3n_estad%C3%ADstica) a partir del estudio de una <a href=\"https://es.wikipedia.org/wiki/Muestreo_(estad%C3%ADstica)\">muestra</a>, y el grado de fiabilidad o significación de los resultados obtenidos. Sus principales herramientas son el <a href=\"https://es.wikipedia.org/wiki/Muestreo_(estad%C3%ADstica)\">muestreo</a>, la estimación de parámetros y el contraste de hipótesis."
   ]
  },
  {
   "cell_type": "markdown",
   "metadata": {},
   "source": [
    "## ¿Qué es la Probabilidad?\n",
    "\n",
    "La *[probabilidad](https://es.wikipedia.org/wiki/Probabilidad)* mide la mayor o menor posibilidad de que se dé un determinado resultado (suceso o evento) cuando se realiza un experimento aleatorio.\n",
    "Para calcular la probabilidad de un evento se toma en cuenta todos los casos posibles de ocurrencia del mismo; es decir, de cuántas formas puede ocurrir determinada situación.Los casos favorables de ocurrencia de un evento serán los que cumplan con la condición que estamos buscando. La *[probabilidad](https://es.wikipedia.org/wiki/Probabilidad)* toma valores entre 0 y 1 (o expresados en tanto por ciento, entre 0% y 100%).\n",
    "\n",
    "La *[probabilidad](https://es.wikipedia.org/wiki/Probabilidad)* es a la vez el inverso y complemento para la *[estadística](http://es.wikipedia.org/wiki/Estad%C3%ADstica)*. Dónde la *[estadística](http://es.wikipedia.org/wiki/Estad%C3%ADstica)* nos ayuda a ir desde los *[datos](https://es.wikipedia.org/wiki/Dato)* observados hasta hacer generalizaciones sobre como funcionan las cosas; la *[probabilidad](https://es.wikipedia.org/wiki/Probabilidad)* funciona en la dirección inversa: si asumimos que sabemos como las cosas funcionan, entonces podemos averiguar la clase de *[datos](https://es.wikipedia.org/wiki/Dato)* que vamos a ver y cuan probable es que los veamos.\n",
    "\n",
    "La *[probabilidad](https://es.wikipedia.org/wiki/Probabilidad)* también funciona como complemento de la *[estadística](http://es.wikipedia.org/wiki/Estad%C3%ADstica)* cuando nos proporciona una sólida base para la *[estadistica inferencial](https://es.wikipedia.org/wiki/Estad%C3%ADstica_inferencial)*. Cuando hay incertidumbre, no sabemos que puede pasar y hay alguna posibilidad de errores, utilizando *[probabilidades](https://es.wikipedia.org/wiki/Probabilidad)* podemos aprender formas de controlar la tasa de errores para reducirlos."
   ]
  },
  {
   "cell_type": "markdown",
   "metadata": {},
   "source": [
    "## Actividades básicas del análisis estadístico\n",
    "\n",
    "Las técnicas *[estadísticas](http://es.wikipedia.org/wiki/Estad%C3%ADstica)* deberían ser vistas como una parte importante de cualquier proceso de toma de dicisiones, permitiendo tomar decisiones estratégicamente informadas que combinen intuición con experiencia y un entendimiento *[estadístico](http://es.wikipedia.org/wiki/Estad%C3%ADstica)* de los *[datos](https://es.wikipedia.org/wiki/Dato)* que tenemos disponibles.\n",
    "\n",
    "Un análisis estadístico suele contener 5 actividades básicas:\n",
    "\n",
    "1. **Diseño del análisis**: Esta actividad involucra el planeamiento de los detalles para obtener los datos que necesitamos y la generación de la hipótesis a ser evaluada. \n",
    "\n",
    "2. **Exploración de datos**: En esta actividad nos dedicamos a jugar con nuestros datos, los describimos, los resumimos, realizamos gráficos para mirarlos desde distintos ángulos. Esta exploración nos ayuda a asegurarnos que los datos que obtuvimos son completos y que la etapa de diseño fue correcta.\n",
    "\n",
    "3. **Armado del modelo**: En esta actividad intentamos armar un modelo que explique el comportamiento de nuestros datos y pueda llegar a hacer predicciones sobre los mismos. La idea es que el modelo pueda describir las propiedades fundamentales de nuestros datos.\n",
    "\n",
    "4. **Realizar estimaciones**: Aquí vamos a intentar realizar estimaciones basadas en el modelo que armamos anteriormente. También vamos a intentar estimar el tamaño del error que nuestro modelo puede tener en sus predicciones.\n",
    "\n",
    "5. **Contraste de la hipótesis**: Esta actividad es la que va a producir la decisión final sobre si las predicciones del modelo son correctas y ayudarnos a concluir si los datos que poseemos confirman o rechazan la hipótesis que generamos en la actividad 1."
   ]
  },
  {
   "cell_type": "markdown",
   "metadata": {},
   "source": [
    "## Conceptos básicos de la estadística descriptiva\n",
    "\n",
    "En *[estadística descriptiva](https://es.wikipedia.org/wiki/Estad%C3%ADstica_descriptiva)* se utilizan distintas medidas para intentar describir las propiedades de nuestros datos, algunos de los conceptos básicos, son:\n",
    "\n",
    "* **Media aritmética**: La [media aritmética](https://es.wikipedia.org/wiki/Media_aritm%C3%A9tica) es el valor obtenido al sumar todos los *[datos](https://es.wikipedia.org/wiki/Dato)* y dividir el resultado entre el número total elementos. Se suele representar con la letra griega $\\mu$. Si tenemos una [muestra](https://es.wikipedia.org/wiki/Muestra_estad%C3%ADstica) de $n$ valores, $x_i$, la *media aritmética*, $\\mu$, es la suma de los valores divididos por el numero de elementos; en otras palabras:\n",
    "$$\\mu = \\frac{1}{n} \\sum_{i}x_i$$\n",
    "\n",
    "\n",
    "* **Desviación respecto a la media**: La desviación respecto a la media es la diferencia en valor absoluto entre cada valor de la variable estadística y la media aritmética.\n",
    "$$D_i = |x_i - \\mu|$$\n",
    "\n",
    "\n",
    "* **Varianza**: La [varianza](https://es.wikipedia.org/wiki/Varianza) es la media aritmética del cuadrado de las desviaciones respecto a la media de una distribución estadística. La varianza intenta describir la dispersión de los *[datos](https://es.wikipedia.org/wiki/Dato)*. Se representa como $\\sigma^2$. \n",
    "$$\\sigma^2 = \\frac{\\sum\\limits_{i=1}^n(x_i - \\mu)^2}{n} $$\n",
    "\n",
    "\n",
    "* **Desviación típica**: La [desviación típica](https://es.wikipedia.org/wiki/Desviaci%C3%B3n_t%C3%ADpica) es la raíz cuadrada de la varianza. Se representa con la letra griega $\\sigma$.\n",
    "$$\\sigma = \\sqrt{\\frac{\\sum\\limits_{i=1}^n(x_i - \\mu)^2}{n}} $$\n",
    "\n",
    "\n",
    "* **Moda**: La <a href=\"https://es.wikipedia.org/wiki/Moda_(estad%C3%ADstica)\">moda</a> es el valor que tiene mayor frecuencia absoluta. Se representa con $M_0$\n",
    "\n",
    "\n",
    "* **Mediana**: La <a href=\"https://es.wikipedia.org/wiki/Mediana_(estad%C3%ADstica)\">mediana</a> es el valor que ocupa el lugar central de todos los datos cuando éstos están ordenados de menor a mayor. Se representa con $\\widetilde{x}$.\n",
    "\n",
    "\n",
    "* **Correlación**: La [correlación](https://es.wikipedia.org/wiki/Correlaci%C3%B3n) trata de establecer la relación o dependencia que existe entre las dos variables que intervienen en una distribución bidimensional. Es decir, determinar si los cambios en una de las variables influyen en los cambios de la otra. En caso de que suceda, diremos que las variables están correlacionadas o que hay correlación entre ellas. La correlación es positiva cuando los valores de las variables aumenta juntos; y es negativa cuando un valor de una variable se reduce cuando el valor de la otra variable aumenta.\n",
    "\n",
    "\n",
    "* **Covarianza**: La [covarianza](https://es.wikipedia.org/wiki/Covarianza) es el equivalente de la varianza aplicado a una variable bidimensional. Es la media aritmética de los productos de las desviaciones de cada una de las variables respecto a sus medias respectivas.La covarianza indica el sentido de la correlación entre las variables; Si $\\sigma_{xy} > 0$ la correlación es directa; Si $\\sigma_{xy} < 0$ la correlación es inversa.\n",
    "\n",
    "$$\\sigma_{xy} = \\frac{\\sum\\limits_{i=1}^n(x_i - \\mu_x)(y_i -\\mu_y)}{n}$$\n",
    "\n",
    "\n",
    "* **Valor atípico**: Un [valor atípico](https://es.wikipedia.org/wiki/Valor_at%C3%ADpico) es una observación que se aleja demasiado de la moda; esta muy lejos de la tendencia principal del resto de los *[datos](https://es.wikipedia.org/wiki/Dato)*. Pueden ser causados por errores en la recolección de *[datos](https://es.wikipedia.org/wiki/Dato)* o medidas inusuales. Generalmente se recomienda eliminarlos del [conjunto de datos](https://es.wikipedia.org/wiki/Conjunto_de_datos).\n"
   ]
  },
  {
   "cell_type": "markdown",
   "metadata": {},
   "source": [
    "## Librerías de Python para probabilidad y estadística\n",
    "\n",
    "Como ya les vengo mostrando en mis anteriores artículos, [Python](http://python.org/) se lleva muy bien con las matemáticas. Además, la [comunidad python](https://www.python.org/community/) es tan amplia que solemos encontrar una librería para cualquier problema al que nos enfrentemos. En este caso, los principales módulos que [Python](http://python.org/) nos ofrece para trabajar con *[probabilidad](https://es.wikipedia.org/wiki/Probabilidad)* y *[estadística](http://es.wikipedia.org/wiki/Estad%C3%ADstica)*, son:\n",
    "\n",
    "* **[numpy](http://www.numpy.org/)**: El popular paquete matemático de [Python](http://python.org/), se utiliza tanto que mucha gente ya lo considera parte integral del lenguaje. Nos proporciona algunas funciones estadísticas que podemos aplicar fácilmente sobre los *arrays* de [Numpy](http://www.numpy.org/).\n",
    "\n",
    "* **[scipy.stats](http://docs.scipy.org/doc/scipy/reference/tutorial/stats.html)**: Este submodulo del paquete científico [Scipy](http://docs.scipy.org/doc/scipy/reference/index.html) es el complemento perfecto para [Numpy](http://www.numpy.org/), las funciones estadisticas que no encontremos en uno, las podemos encontrar en el otro.\n",
    "\n",
    "* **[statsmodels](http://statsmodels.sourceforge.net/)**: Esta librería nos brinda un gran número de herramientas para explorar *[datos](https://es.wikipedia.org/wiki/Dato)*, estimar modelos estadísticos, realizar pruebas estadísticas y muchas cosas más.\n",
    "\n",
    "* **[matplotlib](http://matplotlib.org/)**: Es la librería más popular en [Python](http://python.org/) para visualizaciones y gráficos. Ella nos va a permitir realizar los gráficos de las distintas distribuciones de datos.\n",
    "\n",
    "* **[seaborn](http://stanford.edu/~mwaskom/software/seaborn/)**: Esta librería es un complemento ideal de [matplotlib](http://matplotlib.org/) para realizar gráficos estadísticos.\n",
    "\n",
    "* **[pandas](http://pandas.pydata.org/)**: Esta es la librería más popular para análisis de *[datos](https://es.wikipedia.org/wiki/Dato)* y financieros. Posee algunas funciones muy útiles para realizar *[estadística descriptiva](https://es.wikipedia.org/wiki/Estad%C3%ADstica_descriptiva)* sobre nuestros datos y nos facilita sobremanera el trabajar con [series de tiempo](https://es.wikipedia.org/wiki/Serie_temporal). \n",
    "\n",
    "* **[pyMC](http://pymc-devs.github.io/pymc/index.html)**: [pyMC](http://pymc-devs.github.io/pymc/index.html) es un módulo de [Python](http://python.org/) que implementa modelos estadísticos bayesianos, incluyendo la [cadena de Markov Monte Carlo(MCMC)](https://en.wikipedia.org/wiki/Markov_chain_Monte_Carlo). [pyMC](http://pymc-devs.github.io/pymc/index.html)  ofrece funcionalidades para hacer el análisis bayesiano lo mas simple posible."
   ]
  },
  {
   "cell_type": "markdown",
   "metadata": {},
   "source": [
    "*Este Jupyter-notebook fue adaptado por Dante Travisany para el curso de Análisis de Datos 2021 de la Universidad de Las Américas (CL) a partir del contenido desarrollado por [Raúl E. López Briega](http://relopezbriega.com.ar/) en su [blog de Python](http://relopezbriega.github.io)."
   ]
  },
  {
   "cell_type": "code",
   "execution_count": null,
   "metadata": {},
   "outputs": [],
   "source": []
  }
 ],
 "metadata": {
  "kernelspec": {
   "display_name": "Python 3",
   "language": "python",
   "name": "python3"
  },
  "language_info": {
   "codemirror_mode": {
    "name": "ipython",
    "version": 3
   },
   "file_extension": ".py",
   "mimetype": "text/x-python",
   "name": "python",
   "nbconvert_exporter": "python",
   "pygments_lexer": "ipython3",
   "version": "3.8.8"
  }
 },
 "nbformat": 4,
 "nbformat_minor": 1
}
