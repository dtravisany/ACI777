{
 "cells": [
  {
   "cell_type": "code",
   "execution_count": 2,
   "id": "bde6a0f9",
   "metadata": {},
   "outputs": [],
   "source": [
    "import pandas as pd\n",
    "\n",
    "pd.set_option('display.width', 75)\n",
    "pd.set_option('display.max_columns', 5)\n",
    "pd.set_option('display.max_rows', 20)\n",
    "pd.options.display.float_format = '{:,.2f}'.format"
   ]
  },
  {
   "cell_type": "code",
   "execution_count": 3,
   "id": "de655334",
   "metadata": {},
   "outputs": [],
   "source": [
    "\n",
    "\n",
    "nls97 = pd.read_csv(\"data/nls97.csv\")\n",
    "\n",
    "nls97.set_index(\"personid\", inplace=True)\n",
    "nls97.loc[:, nls97.dtypes == 'object'] = \\\n",
    "  nls97.select_dtypes(['object']). \\\n",
    "  apply(lambda x: x.astype('category'))\n",
    "\n"
   ]
  },
  {
   "cell_type": "code",
   "execution_count": 4,
   "id": "d2a1abaa",
   "metadata": {},
   "outputs": [
    {
     "data": {
      "text/plain": [
       "gender                  0\n",
       "maritalstatus        2312\n",
       "weeklyhrscomputer    2274\n",
       "weeklyhrstv          2273\n",
       "highestdegree          31\n",
       "                     ... \n",
       "colenroct15          1515\n",
       "colenrfeb16          1948\n",
       "colenroct16          2251\n",
       "colenrfeb17          2251\n",
       "colenroct17          2250\n",
       "Length: 57, dtype: int64"
      ]
     },
     "execution_count": 4,
     "metadata": {},
     "output_type": "execute_result"
    }
   ],
   "source": [
    "# show the names of columns with category data type and check for number of missings\n",
    "catcols = nls97.select_dtypes(include=[\"category\"]).columns\n",
    "nls97[catcols].isnull().sum()\n",
    "\n"
   ]
  },
  {
   "cell_type": "code",
   "execution_count": 5,
   "id": "f1e367f9",
   "metadata": {},
   "outputs": [
    {
     "data": {
      "text/plain": [
       "Married          3066\n",
       "Never-married    2766\n",
       "Divorced          663\n",
       "Separated         154\n",
       "Widowed            23\n",
       "Name: maritalstatus, dtype: int64"
      ]
     },
     "execution_count": 5,
     "metadata": {},
     "output_type": "execute_result"
    }
   ],
   "source": [
    "# show frequencies for marital status\n",
    "nls97.maritalstatus.value_counts()\n",
    "\n"
   ]
  },
  {
   "cell_type": "code",
   "execution_count": 7,
   "id": "27c6d62b",
   "metadata": {},
   "outputs": [
    {
     "data": {
      "text/plain": [
       "Divorced          663\n",
       "Married          3066\n",
       "Never-married    2766\n",
       "Separated         154\n",
       "Widowed            23\n",
       "Name: maritalstatus, dtype: int64"
      ]
     },
     "execution_count": 7,
     "metadata": {},
     "output_type": "execute_result"
    }
   ],
   "source": [
    "# turn off sorting by frequency\n",
    "nls97.maritalstatus.value_counts(sort=False)\n",
    "\n"
   ]
  },
  {
   "cell_type": "code",
   "execution_count": 8,
   "id": "8d1dc852",
   "metadata": {},
   "outputs": [
    {
     "data": {
      "text/plain": [
       "Divorced        0.10\n",
       "Married         0.46\n",
       "Never-married   0.41\n",
       "Separated       0.02\n",
       "Widowed         0.00\n",
       "Name: maritalstatus, dtype: float64"
      ]
     },
     "execution_count": 8,
     "metadata": {},
     "output_type": "execute_result"
    }
   ],
   "source": [
    "# show percentages instead of counts\n",
    "nls97.maritalstatus.value_counts(sort=False, normalize=True)\n"
   ]
  },
  {
   "cell_type": "code",
   "execution_count": 9,
   "id": "8c65a25d",
   "metadata": {},
   "outputs": [
    {
     "data": {
      "text/html": [
       "<div>\n",
       "<style scoped>\n",
       "    .dataframe tbody tr th:only-of-type {\n",
       "        vertical-align: middle;\n",
       "    }\n",
       "\n",
       "    .dataframe tbody tr th {\n",
       "        vertical-align: top;\n",
       "    }\n",
       "\n",
       "    .dataframe thead th {\n",
       "        text-align: right;\n",
       "    }\n",
       "</style>\n",
       "<table border=\"1\" class=\"dataframe\">\n",
       "  <thead>\n",
       "    <tr style=\"text-align: right;\">\n",
       "      <th></th>\n",
       "      <th>govprovidejobs</th>\n",
       "      <th>govpricecontrols</th>\n",
       "      <th>...</th>\n",
       "      <th>govdecenthousing</th>\n",
       "      <th>govprotectenvironment</th>\n",
       "    </tr>\n",
       "  </thead>\n",
       "  <tbody>\n",
       "    <tr>\n",
       "      <th>1. Definitely</th>\n",
       "      <td>0.25</td>\n",
       "      <td>0.54</td>\n",
       "      <td>...</td>\n",
       "      <td>0.44</td>\n",
       "      <td>0.67</td>\n",
       "    </tr>\n",
       "    <tr>\n",
       "      <th>2. Probably</th>\n",
       "      <td>0.34</td>\n",
       "      <td>0.33</td>\n",
       "      <td>...</td>\n",
       "      <td>0.43</td>\n",
       "      <td>0.29</td>\n",
       "    </tr>\n",
       "    <tr>\n",
       "      <th>3. Probably not</th>\n",
       "      <td>0.25</td>\n",
       "      <td>0.09</td>\n",
       "      <td>...</td>\n",
       "      <td>0.10</td>\n",
       "      <td>0.03</td>\n",
       "    </tr>\n",
       "    <tr>\n",
       "      <th>4. Definitely not</th>\n",
       "      <td>0.16</td>\n",
       "      <td>0.04</td>\n",
       "      <td>...</td>\n",
       "      <td>0.02</td>\n",
       "      <td>0.02</td>\n",
       "    </tr>\n",
       "  </tbody>\n",
       "</table>\n",
       "<p>4 rows × 10 columns</p>\n",
       "</div>"
      ],
      "text/plain": [
       "                   govprovidejobs  govpricecontrols  ...  \\\n",
       "1. Definitely                0.25              0.54  ...   \n",
       "2. Probably                  0.34              0.33  ...   \n",
       "3. Probably not              0.25              0.09  ...   \n",
       "4. Definitely not            0.16              0.04  ...   \n",
       "\n",
       "                   govdecenthousing  govprotectenvironment  \n",
       "1. Definitely                  0.44                   0.67  \n",
       "2. Probably                    0.43                   0.29  \n",
       "3. Probably not                0.10                   0.03  \n",
       "4. Definitely not              0.02                   0.02  \n",
       "\n",
       "[4 rows x 10 columns]"
      ]
     },
     "execution_count": 9,
     "metadata": {},
     "output_type": "execute_result"
    }
   ],
   "source": [
    "# do percentages for all government responsibility variables\n",
    "nls97.filter(like=\"gov\").apply(pd.value_counts, normalize=True)\n",
    "\n"
   ]
  },
  {
   "cell_type": "code",
   "execution_count": 10,
   "id": "46576e57",
   "metadata": {},
   "outputs": [
    {
     "data": {
      "text/html": [
       "<div>\n",
       "<style scoped>\n",
       "    .dataframe tbody tr th:only-of-type {\n",
       "        vertical-align: middle;\n",
       "    }\n",
       "\n",
       "    .dataframe tbody tr th {\n",
       "        vertical-align: top;\n",
       "    }\n",
       "\n",
       "    .dataframe thead th {\n",
       "        text-align: right;\n",
       "    }\n",
       "</style>\n",
       "<table border=\"1\" class=\"dataframe\">\n",
       "  <thead>\n",
       "    <tr style=\"text-align: right;\">\n",
       "      <th></th>\n",
       "      <th>govprovidejobs</th>\n",
       "      <th>govpricecontrols</th>\n",
       "      <th>...</th>\n",
       "      <th>govdecenthousing</th>\n",
       "      <th>govprotectenvironment</th>\n",
       "    </tr>\n",
       "  </thead>\n",
       "  <tbody>\n",
       "    <tr>\n",
       "      <th>1. Definitely</th>\n",
       "      <td>0.17</td>\n",
       "      <td>0.46</td>\n",
       "      <td>...</td>\n",
       "      <td>0.36</td>\n",
       "      <td>0.64</td>\n",
       "    </tr>\n",
       "    <tr>\n",
       "      <th>2. Probably</th>\n",
       "      <td>0.33</td>\n",
       "      <td>0.38</td>\n",
       "      <td>...</td>\n",
       "      <td>0.49</td>\n",
       "      <td>0.31</td>\n",
       "    </tr>\n",
       "    <tr>\n",
       "      <th>3. Probably not</th>\n",
       "      <td>0.31</td>\n",
       "      <td>0.11</td>\n",
       "      <td>...</td>\n",
       "      <td>0.12</td>\n",
       "      <td>0.03</td>\n",
       "    </tr>\n",
       "    <tr>\n",
       "      <th>4. Definitely not</th>\n",
       "      <td>0.18</td>\n",
       "      <td>0.05</td>\n",
       "      <td>...</td>\n",
       "      <td>0.03</td>\n",
       "      <td>0.01</td>\n",
       "    </tr>\n",
       "  </tbody>\n",
       "</table>\n",
       "<p>4 rows × 10 columns</p>\n",
       "</div>"
      ],
      "text/plain": [
       "                   govprovidejobs  govpricecontrols  ...  \\\n",
       "1. Definitely                0.17              0.46  ...   \n",
       "2. Probably                  0.33              0.38  ...   \n",
       "3. Probably not              0.31              0.11  ...   \n",
       "4. Definitely not            0.18              0.05  ...   \n",
       "\n",
       "                   govdecenthousing  govprotectenvironment  \n",
       "1. Definitely                  0.36                   0.64  \n",
       "2. Probably                    0.49                   0.31  \n",
       "3. Probably not                0.12                   0.03  \n",
       "4. Definitely not              0.03                   0.01  \n",
       "\n",
       "[4 rows x 10 columns]"
      ]
     },
     "execution_count": 10,
     "metadata": {},
     "output_type": "execute_result"
    }
   ],
   "source": [
    "# do percentages for all government responsibility variables for people who are married\n",
    "nls97[nls97.maritalstatus==\"Married\"].\\\n",
    "filter(like=\"gov\").\\\n",
    "apply(pd.value_counts, normalize=True)\n",
    "\n"
   ]
  },
  {
   "cell_type": "code",
   "execution_count": 19,
   "id": "21035eae",
   "metadata": {},
   "outputs": [],
   "source": [
    "# do frequencies and percentages for all category variables in data frame\n",
    "freqout = open('views/frequencies.txt', 'w') \n"
   ]
  },
  {
   "cell_type": "code",
   "execution_count": 20,
   "id": "e7967de7",
   "metadata": {},
   "outputs": [],
   "source": [
    "for col in nls97.select_dtypes(include=[\"category\"]):\n",
    "    print(col, \"----------------------\", \"frequencies\",\n",
    "    nls97[col].value_counts(sort=False),\"percentages\",\n",
    "    nls97[col].value_counts(normalize=True, sort=False),\n",
    "    sep=\"\\n\\n\", end=\"\\n\\n\\n\", file=freqout)\n",
    "\n"
   ]
  },
  {
   "cell_type": "code",
   "execution_count": 21,
   "id": "90b30bba",
   "metadata": {},
   "outputs": [],
   "source": [
    "freqout.close()"
   ]
  },
  {
   "cell_type": "code",
   "execution_count": null,
   "id": "ba68c64b",
   "metadata": {},
   "outputs": [],
   "source": []
  }
 ],
 "metadata": {
  "kernelspec": {
   "display_name": "Python 3",
   "language": "python",
   "name": "python3"
  },
  "language_info": {
   "codemirror_mode": {
    "name": "ipython",
    "version": 3
   },
   "file_extension": ".py",
   "mimetype": "text/x-python",
   "name": "python",
   "nbconvert_exporter": "python",
   "pygments_lexer": "ipython3",
   "version": "3.8.8"
  }
 },
 "nbformat": 4,
 "nbformat_minor": 5
}
