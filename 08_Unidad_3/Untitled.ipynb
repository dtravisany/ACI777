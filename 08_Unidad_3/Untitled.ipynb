{
 "cells": [
  {
   "cell_type": "code",
   "execution_count": 18,
   "id": "56b74ece",
   "metadata": {},
   "outputs": [],
   "source": [
    "import pandas as pd\n",
    "import numpy as np\n",
    "import matplotlib.pyplot as plt"
   ]
  },
  {
   "cell_type": "markdown",
   "id": "3d0a7fb8",
   "metadata": {},
   "source": [
    "Variables:\n",
    "1. oecd_icv = indice calidad de vida de la OECD\n",
    "2. "
   ]
  },
  {
   "cell_type": "code",
   "execution_count": 19,
   "id": "8cafdd02",
   "metadata": {},
   "outputs": [],
   "source": [
    "oecd_icv = pd.read_csv(\"datasets/lifesat/oecd_bli_2015.csv\", thousands=',')"
   ]
  },
  {
   "cell_type": "markdown",
   "id": "a1245ac5",
   "metadata": {},
   "source": [
    "Estudiamos el dataset:"
   ]
  },
  {
   "cell_type": "code",
   "execution_count": 20,
   "id": "7e84c20c",
   "metadata": {},
   "outputs": [
    {
     "data": {
      "text/plain": [
       "Index(['LOCATION', 'Country', 'INDICATOR', 'Indicator', 'MEASURE', 'Measure',\n",
       "       'INEQUALITY', 'Inequality', 'Unit Code', 'Unit', 'PowerCode Code',\n",
       "       'PowerCode', 'Reference Period Code', 'Reference Period', 'Value',\n",
       "       'Flag Codes', 'Flags'],\n",
       "      dtype='object')"
      ]
     },
     "execution_count": 20,
     "metadata": {},
     "output_type": "execute_result"
    }
   ],
   "source": [
    "oecd_icv.columns"
   ]
  },
  {
   "cell_type": "markdown",
   "id": "912945b4",
   "metadata": {},
   "source": [
    "Podemos aprendar más información desde el sitio de la [OECD](https://stats.oecd.org/index.aspx?DataSetCode=BLI)"
   ]
  },
  {
   "cell_type": "code",
   "execution_count": 21,
   "id": "182ad83d",
   "metadata": {},
   "outputs": [
    {
     "data": {
      "text/html": [
       "<div>\n",
       "<style scoped>\n",
       "    .dataframe tbody tr th:only-of-type {\n",
       "        vertical-align: middle;\n",
       "    }\n",
       "\n",
       "    .dataframe tbody tr th {\n",
       "        vertical-align: top;\n",
       "    }\n",
       "\n",
       "    .dataframe thead th {\n",
       "        text-align: right;\n",
       "    }\n",
       "</style>\n",
       "<table border=\"1\" class=\"dataframe\">\n",
       "  <thead>\n",
       "    <tr style=\"text-align: right;\">\n",
       "      <th></th>\n",
       "      <th>LOCATION</th>\n",
       "      <th>Country</th>\n",
       "      <th>INDICATOR</th>\n",
       "      <th>Indicator</th>\n",
       "      <th>MEASURE</th>\n",
       "      <th>Measure</th>\n",
       "      <th>INEQUALITY</th>\n",
       "      <th>Inequality</th>\n",
       "      <th>Unit Code</th>\n",
       "      <th>Unit</th>\n",
       "      <th>PowerCode Code</th>\n",
       "      <th>PowerCode</th>\n",
       "      <th>Reference Period Code</th>\n",
       "      <th>Reference Period</th>\n",
       "      <th>Value</th>\n",
       "      <th>Flag Codes</th>\n",
       "      <th>Flags</th>\n",
       "    </tr>\n",
       "  </thead>\n",
       "  <tbody>\n",
       "    <tr>\n",
       "      <th>0</th>\n",
       "      <td>AUS</td>\n",
       "      <td>Australia</td>\n",
       "      <td>HO_BASE</td>\n",
       "      <td>Dwellings without basic facilities</td>\n",
       "      <td>L</td>\n",
       "      <td>Value</td>\n",
       "      <td>TOT</td>\n",
       "      <td>Total</td>\n",
       "      <td>PC</td>\n",
       "      <td>Percentage</td>\n",
       "      <td>0</td>\n",
       "      <td>units</td>\n",
       "      <td>NaN</td>\n",
       "      <td>NaN</td>\n",
       "      <td>1.1</td>\n",
       "      <td>E</td>\n",
       "      <td>Estimated value</td>\n",
       "    </tr>\n",
       "    <tr>\n",
       "      <th>1</th>\n",
       "      <td>AUT</td>\n",
       "      <td>Austria</td>\n",
       "      <td>HO_BASE</td>\n",
       "      <td>Dwellings without basic facilities</td>\n",
       "      <td>L</td>\n",
       "      <td>Value</td>\n",
       "      <td>TOT</td>\n",
       "      <td>Total</td>\n",
       "      <td>PC</td>\n",
       "      <td>Percentage</td>\n",
       "      <td>0</td>\n",
       "      <td>units</td>\n",
       "      <td>NaN</td>\n",
       "      <td>NaN</td>\n",
       "      <td>1.0</td>\n",
       "      <td>NaN</td>\n",
       "      <td>NaN</td>\n",
       "    </tr>\n",
       "  </tbody>\n",
       "</table>\n",
       "</div>"
      ],
      "text/plain": [
       "  LOCATION    Country INDICATOR                           Indicator MEASURE  \\\n",
       "0      AUS  Australia   HO_BASE  Dwellings without basic facilities       L   \n",
       "1      AUT    Austria   HO_BASE  Dwellings without basic facilities       L   \n",
       "\n",
       "  Measure INEQUALITY Inequality Unit Code        Unit  PowerCode Code  \\\n",
       "0   Value        TOT      Total        PC  Percentage               0   \n",
       "1   Value        TOT      Total        PC  Percentage               0   \n",
       "\n",
       "  PowerCode  Reference Period Code  Reference Period  Value Flag Codes  \\\n",
       "0     units                    NaN               NaN    1.1          E   \n",
       "1     units                    NaN               NaN    1.0        NaN   \n",
       "\n",
       "             Flags  \n",
       "0  Estimated value  \n",
       "1              NaN  "
      ]
     },
     "execution_count": 21,
     "metadata": {},
     "output_type": "execute_result"
    }
   ],
   "source": [
    "oecd_icv.head(2)"
   ]
  },
  {
   "cell_type": "markdown",
   "id": "6ec4976b",
   "metadata": {},
   "source": [
    "Importamos el Producto Interno Bruto desde el sitio del Fondo Monetario Internacional ([FMI](https://www.imf.org/en/Publications/SPROLLS/world-economic-outlook-databases#sort=%40imfdate%20descending))"
   ]
  },
  {
   "cell_type": "code",
   "execution_count": 22,
   "id": "db1647ae",
   "metadata": {},
   "outputs": [],
   "source": [
    "pib_per_capita = pd.read_csv(\"datasets/lifesat/gdp_per_capita.csv\",thousands=',',delimiter='\\t',\n",
    "                             encoding='latin1', na_values=\"n/a\")"
   ]
  },
  {
   "cell_type": "code",
   "execution_count": 23,
   "id": "d88f448a",
   "metadata": {},
   "outputs": [
    {
     "data": {
      "text/plain": [
       "Index(['Country', 'Subject Descriptor', 'Units', 'Scale',\n",
       "       'Country/Series-specific Notes', '2015', 'Estimates Start After'],\n",
       "      dtype='object')"
      ]
     },
     "execution_count": 23,
     "metadata": {},
     "output_type": "execute_result"
    }
   ],
   "source": [
    "pib_per_capita.columns"
   ]
  },
  {
   "cell_type": "code",
   "execution_count": 24,
   "id": "26c1ccc6",
   "metadata": {},
   "outputs": [
    {
     "data": {
      "text/html": [
       "<div>\n",
       "<style scoped>\n",
       "    .dataframe tbody tr th:only-of-type {\n",
       "        vertical-align: middle;\n",
       "    }\n",
       "\n",
       "    .dataframe tbody tr th {\n",
       "        vertical-align: top;\n",
       "    }\n",
       "\n",
       "    .dataframe thead th {\n",
       "        text-align: right;\n",
       "    }\n",
       "</style>\n",
       "<table border=\"1\" class=\"dataframe\">\n",
       "  <thead>\n",
       "    <tr style=\"text-align: right;\">\n",
       "      <th></th>\n",
       "      <th>Country</th>\n",
       "      <th>Subject Descriptor</th>\n",
       "      <th>Units</th>\n",
       "      <th>Scale</th>\n",
       "      <th>Country/Series-specific Notes</th>\n",
       "      <th>2015</th>\n",
       "      <th>Estimates Start After</th>\n",
       "    </tr>\n",
       "  </thead>\n",
       "  <tbody>\n",
       "    <tr>\n",
       "      <th>0</th>\n",
       "      <td>Afghanistan</td>\n",
       "      <td>Gross domestic product per capita, current prices</td>\n",
       "      <td>U.S. dollars</td>\n",
       "      <td>Units</td>\n",
       "      <td>See notes for:  Gross domestic product, curren...</td>\n",
       "      <td>599.994</td>\n",
       "      <td>2013.0</td>\n",
       "    </tr>\n",
       "    <tr>\n",
       "      <th>1</th>\n",
       "      <td>Albania</td>\n",
       "      <td>Gross domestic product per capita, current prices</td>\n",
       "      <td>U.S. dollars</td>\n",
       "      <td>Units</td>\n",
       "      <td>See notes for:  Gross domestic product, curren...</td>\n",
       "      <td>3995.383</td>\n",
       "      <td>2010.0</td>\n",
       "    </tr>\n",
       "  </tbody>\n",
       "</table>\n",
       "</div>"
      ],
      "text/plain": [
       "       Country                                 Subject Descriptor  \\\n",
       "0  Afghanistan  Gross domestic product per capita, current prices   \n",
       "1      Albania  Gross domestic product per capita, current prices   \n",
       "\n",
       "          Units  Scale                      Country/Series-specific Notes  \\\n",
       "0  U.S. dollars  Units  See notes for:  Gross domestic product, curren...   \n",
       "1  U.S. dollars  Units  See notes for:  Gross domestic product, curren...   \n",
       "\n",
       "       2015  Estimates Start After  \n",
       "0   599.994                 2013.0  \n",
       "1  3995.383                 2010.0  "
      ]
     },
     "execution_count": 24,
     "metadata": {},
     "output_type": "execute_result"
    }
   ],
   "source": [
    "pib_per_capita.head(2)"
   ]
  },
  {
   "cell_type": "markdown",
   "id": "62951297",
   "metadata": {},
   "source": [
    "Crearemos una función que combine los datos de satisfacción de la OCDE y los datos del PIB per cápita del FMI. Ya nos manejamos bien con pandas, por lo que es trivial."
   ]
  },
  {
   "cell_type": "code",
   "execution_count": 25,
   "id": "f56e71d8",
   "metadata": {},
   "outputs": [],
   "source": [
    "def estadisticas_pais(oecd_icv, pib_per_capita):\n",
    "    oecd_icv = oecd_icv[oecd_icv[\"INEQUALITY\"]==\"TOT\"]\n",
    "    oecd_icv = oecd_icv.pivot(index=\"Country\", columns=\"Indicator\", values=\"Value\")\n",
    "    pib_per_capita.rename(columns={\"2015\": \"PIB per capita\"}, inplace=True)\n",
    "    \n",
    "    pib_per_capita.set_index(\"Country\", inplace=True)\n",
    "    estadistica_pais = pd.merge(left=oecd_icv, right=pib_per_capita,\n",
    "                                  left_index=True, right_index=True)\n",
    "    estadistica_pais.sort_values(by=\"PIB per capita\", inplace=True)\n",
    "    remover_indices = [0, 1, 6, 8, 33, 34, 35]\n",
    "    mantener_indices = list(set(range(36)) - set(remover_indices))\n",
    "    return estadistica_pais[[\"PIB per capita\", 'Life satisfaction']].iloc[mantener_indices]"
   ]
  },
  {
   "cell_type": "markdown",
   "id": "30c14957",
   "metadata": {},
   "source": [
    "Preparamos los datos país"
   ]
  },
  {
   "cell_type": "code",
   "execution_count": 26,
   "id": "beeac8f9",
   "metadata": {},
   "outputs": [],
   "source": [
    "\n",
    "estadistica_paises = estadisticas_pais(oecd_icv, pib_per_capita)\n"
   ]
  },
  {
   "cell_type": "code",
   "execution_count": 27,
   "id": "a718f12e",
   "metadata": {},
   "outputs": [],
   "source": [
    "X = np.c_[estadistica_paises[\"PIB per capita\"]]\n",
    "y = np.c_[estadistica_paises[\"Life satisfaction\"]]"
   ]
  },
  {
   "cell_type": "code",
   "execution_count": 28,
   "id": "8edf34ac",
   "metadata": {},
   "outputs": [],
   "source": [
    "# Visualizar los datos"
   ]
  },
  {
   "cell_type": "code",
   "execution_count": 29,
   "id": "ae3fede7",
   "metadata": {},
   "outputs": [
    {
     "data": {
      "image/png": "[encoded data removed]",
      "text/plain": [
       "<Figure size 432x288 with 1 Axes>"
      ]
     },
     "metadata": {
      "needs_background": "light"
     },
     "output_type": "display_data"
    }
   ],
   "source": [
    "\n",
    "estadistica_paises.plot(kind='scatter', x=\"PIB per capita\", y='Life satisfaction')\n",
    "plt.show()"
   ]
  },
  {
   "cell_type": "markdown",
   "id": "5154f7d4",
   "metadata": {},
   "source": [
    "Parece que los datos nos muestran una tendencia a mayor PIB mayor satisfacción, parece que nuestra hipótesis se está cumpliendo."
   ]
  },
  {
   "cell_type": "markdown",
   "id": "51684bdf",
   "metadata": {},
   "source": [
    "Entrenaremos un modelo predictor"
   ]
  },
  {
   "cell_type": "code",
   "execution_count": 30,
   "id": "c9ec14b8",
   "metadata": {},
   "outputs": [],
   "source": [
    "import sklearn.linear_model"
   ]
  },
  {
   "cell_type": "code",
   "execution_count": null,
   "id": "19ff17e4",
   "metadata": {},
   "outputs": [],
   "source": []
  }
 ],
 "metadata": {
  "kernelspec": {
   "display_name": "Python 3",
   "language": "python",
   "name": "python3"
  },
  "language_info": {
   "codemirror_mode": {
    "name": "ipython",
    "version": 3
   },
   "file_extension": ".py",
   "mimetype": "text/x-python",
   "name": "python",
   "nbconvert_exporter": "python",
   "pygments_lexer": "ipython3",
   "version": "3.8.8"
  }
 },
 "nbformat": 4,
 "nbformat_minor": 5
}
