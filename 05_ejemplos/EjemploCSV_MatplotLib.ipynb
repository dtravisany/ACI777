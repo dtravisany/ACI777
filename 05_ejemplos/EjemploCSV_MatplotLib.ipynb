{
 "cells": [
  {
   "cell_type": "markdown",
   "id": "36176ce2",
   "metadata": {},
   "source": [
    "# Ejemplo para leer un csv utilizando csv\n",
    "\n",
    "En este ejemplo veremos como cargar un archivo csv y guardarlo en una lista o guardarlo en un diccionario y hacer un gráfico.  \n",
    "\n",
    "Pasos previos:  \n",
    "1. Para esto tomaré los datos del censo de Chile descargados de [aquí](http://www.censo2017.cl/descargue-aqui-resultados-de-comunas/)\n",
    "2. Voy a tomar los datos del resultado sexo/edad. Iré a la segunda hoja del excel en excel copiaré los datos y los voy a guardar en un archivo separado por comas llamado censo.csv.\n",
    "\n",
    "En el ejercicio:  \n",
    "\n",
    "1. Tomaré los datos desde censo.csv\n",
    "2. Graficaré el total por región de hombres y mujeres\n",
    "\n"
   ]
  },
  {
   "cell_type": "markdown",
   "id": "a1ae7d5d",
   "metadata": {},
   "source": [
    "##### Comenzamos cargando la libreria [csv](https://docs.python.org/3/library/csv.html) y de la libreria [matplotlib](https://matplotlib.org/) solo el paquete [pyplot](https://matplotlib.org/stable/api/_as_gen/matplotlib.pyplot.html) y ocuparemos [numpy](https://numpy.org/) para algunos calculos en la generación de la gráfica.  \n",
    "\n",
    "\n",
    "Para no tener que llamar a las funciones de `matplotlib.pyplot` de forma extensa:  \n",
    "Por ejemplo para graficar tendríamos que escribir `matplotlib.pyplot.plot`, le pondremos un alias a `matplotlib.pyplot`,  \n",
    "\n",
    "Por consenso ese alias es `plt` de esta manera si queremos hacer un gráfico bastaria con escribir `plt.plot` en vez de `matplotlib.pyplot.plot`. Lo mismo con numpy"
   ]
  },
  {
   "cell_type": "code",
   "execution_count": 1,
   "id": "376aa365",
   "metadata": {},
   "outputs": [],
   "source": [
    "import csv\n",
    "import matplotlib.pyplot as plt\n",
    "import numpy as np"
   ]
  },
  {
   "cell_type": "markdown",
   "id": "6989292b",
   "metadata": {},
   "source": [
    "###### Ahora leeremos un archivo que esta alojado en la carpeta data"
   ]
  },
  {
   "cell_type": "markdown",
   "id": "834a13e6",
   "metadata": {},
   "source": [
    "si lo escribieramos en castellano sería:  \n",
    "\n",
    "con abrir('data/censo.csv') como archivo_csv:  \n",
    "&nbsp;&nbsp;&nbsp;&nbsp;&nbsp;&nbsp;leer = csv.lector(archivo_csv, delimitador=',')..."
   ]
  },
  {
   "cell_type": "code",
   "execution_count": 2,
   "id": "4dcb101f",
   "metadata": {},
   "outputs": [],
   "source": [
    "#definimos variables de almacenamiento\n",
    "#guardaremos los nombres de las columnas en este arreglo\n",
    "# para efectos practicos veremos el nombre de las columnas aunque ya las conocemos\n",
    "columnas=[]\n",
    "\n",
    "with open('data/censo.csv') as archivo_csv:\n",
    "    lector = csv.reader(archivo_csv, delimiter=',')\n",
    "    contador=0;\n",
    "    for row in lector:\n",
    "        if contador==0:\n",
    "            columnas=row\n",
    "            contador=1;\n",
    "            \n"
   ]
  },
  {
   "cell_type": "code",
   "execution_count": 3,
   "id": "188d98d4",
   "metadata": {},
   "outputs": [
    {
     "data": {
      "text/plain": [
       "['ORDEN',\n",
       " 'NOMBRE REGIÓN',\n",
       " 'Código Región',\n",
       " 'NOMBRE PROVINCIA',\n",
       " 'Código Provincia',\n",
       " 'NOMBRE COMUNA',\n",
       " 'Código Comuna',\n",
       " 'Edad',\n",
       " 'Hombres',\n",
       " 'Mujeres',\n",
       " 'TOTAL']"
      ]
     },
     "execution_count": 3,
     "metadata": {},
     "output_type": "execute_result"
    }
   ],
   "source": [
    "columnas"
   ]
  },
  {
   "cell_type": "markdown",
   "id": "b6bf01f5",
   "metadata": {},
   "source": [
    "Podemos ver que me interesa el nombre de la región que serian los datos por fila alojados en `row[1]` y me interesa hombres y mujeres que vendrían siendo `row[8]` y `row[9]` respectivamente  \n",
    "\n",
    "Entonces repetimos el código anterior, pero ahora crearemos una estructura de datos que nos permita guardar los mismos, para esto utilizaremos un diccionario donde iremos acumulando los valores por región\n",
    "  \n",
    "Por ejemplo:  \n",
    "\n",
    "`data['Arica y Parinacota']['Mujeres']`\n"
   ]
  },
  {
   "cell_type": "code",
   "execution_count": 4,
   "id": "3bb7fa6c",
   "metadata": {},
   "outputs": [
    {
     "ename": "KeyError",
     "evalue": "'PAÍS'",
     "output_type": "error",
     "traceback": [
      "\u001b[0;31m---------------------------------------------------------------------------\u001b[0m",
      "\u001b[0;31mKeyError\u001b[0m                                  Traceback (most recent call last)",
      "\u001b[0;32m<ipython-input-4-036c72c7f0e8>\u001b[0m in \u001b[0;36m<module>\u001b[0;34m\u001b[0m\n\u001b[1;32m      8\u001b[0m             \u001b[0mcontador\u001b[0m\u001b[0;34m=\u001b[0m\u001b[0;36m1\u001b[0m\u001b[0;34m;\u001b[0m\u001b[0;34m\u001b[0m\u001b[0;34m\u001b[0m\u001b[0m\n\u001b[1;32m      9\u001b[0m         \u001b[0;32melse\u001b[0m\u001b[0;34m:\u001b[0m\u001b[0;34m\u001b[0m\u001b[0;34m\u001b[0m\u001b[0m\n\u001b[0;32m---> 10\u001b[0;31m             \u001b[0mdata\u001b[0m\u001b[0;34m[\u001b[0m\u001b[0mrow\u001b[0m\u001b[0;34m[\u001b[0m\u001b[0;36m1\u001b[0m\u001b[0;34m]\u001b[0m\u001b[0;34m]\u001b[0m\u001b[0;34m[\u001b[0m\u001b[0;34m'Mujeres'\u001b[0m\u001b[0;34m]\u001b[0m\u001b[0;34m=\u001b[0m\u001b[0mdata\u001b[0m\u001b[0;34m[\u001b[0m\u001b[0mrow\u001b[0m\u001b[0;34m[\u001b[0m\u001b[0;36m1\u001b[0m\u001b[0;34m]\u001b[0m\u001b[0;34m]\u001b[0m\u001b[0;34m[\u001b[0m\u001b[0;34m'Mujeres'\u001b[0m\u001b[0;34m]\u001b[0m\u001b[0;34m+\u001b[0m\u001b[0mrow\u001b[0m\u001b[0;34m[\u001b[0m\u001b[0;36m9\u001b[0m\u001b[0;34m]\u001b[0m\u001b[0;34m\u001b[0m\u001b[0;34m\u001b[0m\u001b[0m\n\u001b[0m\u001b[1;32m     11\u001b[0m             \u001b[0mdata\u001b[0m\u001b[0;34m[\u001b[0m\u001b[0mrow\u001b[0m\u001b[0;34m[\u001b[0m\u001b[0;36m1\u001b[0m\u001b[0;34m]\u001b[0m\u001b[0;34m]\u001b[0m\u001b[0;34m[\u001b[0m\u001b[0;34m'Hombres'\u001b[0m\u001b[0;34m]\u001b[0m\u001b[0;34m=\u001b[0m\u001b[0mdata\u001b[0m\u001b[0;34m[\u001b[0m\u001b[0mrow\u001b[0m\u001b[0;34m[\u001b[0m\u001b[0;36m1\u001b[0m\u001b[0;34m]\u001b[0m\u001b[0;34m]\u001b[0m\u001b[0;34m[\u001b[0m\u001b[0;34m'Hombres'\u001b[0m\u001b[0;34m]\u001b[0m\u001b[0;34m+\u001b[0m\u001b[0mrow\u001b[0m\u001b[0;34m[\u001b[0m\u001b[0;36m8\u001b[0m\u001b[0;34m]\u001b[0m\u001b[0;34m\u001b[0m\u001b[0;34m\u001b[0m\u001b[0m\n\u001b[1;32m     12\u001b[0m \u001b[0;34m\u001b[0m\u001b[0m\n",
      "\u001b[0;31mKeyError\u001b[0m: 'PAÍS'"
     ]
    }
   ],
   "source": [
    "data={}\n",
    "\n",
    "with open('data/censo.csv') as archivo_csv:\n",
    "    lector = csv.reader(archivo_csv, delimiter=',')\n",
    "    contador=0;\n",
    "    for row in lector:\n",
    "        if contador==0:\n",
    "            contador=1;\n",
    "        else:\n",
    "            data[row[1]]['Mujeres']=data[row[1]]['Mujeres']+row[9]\n",
    "            data[row[1]]['Hombres']=data[row[1]]['Hombres']+row[8]\n",
    "            \n"
   ]
  },
  {
   "cell_type": "markdown",
   "id": "65331db3",
   "metadata": {},
   "source": [
    "Como podemos ver esto me da un error, entonces podemos trabajar con `try` `except` para manipular el error"
   ]
  },
  {
   "cell_type": "code",
   "execution_count": 5,
   "id": "dc94151f",
   "metadata": {},
   "outputs": [],
   "source": [
    "data={}\n",
    "\n",
    "with open('data/censo.csv') as archivo_csv:\n",
    "    lector = csv.reader(archivo_csv, delimiter=',')\n",
    "    contador=0;\n",
    "    for row in lector:\n",
    "        if contador==0:\n",
    "            contador=1;\n",
    "        else:\n",
    "            try:\n",
    "                data[row[1]]['Mujeres']=data[row[1]]['Mujeres']+int(row[9])\n",
    "                data[row[1]]['Hombres']=data[row[1]]['Hombres']+int(row[8])\n",
    "            except KeyError:\n",
    "                data[row[1]]={'Hombres':0, 'Mujeres': 0}\n",
    "                data[row[1]]['Mujeres']=int(row[9])\n",
    "                data[row[1]]['Hombres']=int(row[8])\n",
    "            \n"
   ]
  },
  {
   "cell_type": "code",
   "execution_count": 6,
   "id": "d29b5f18",
   "metadata": {
    "scrolled": true
   },
   "outputs": [
    {
     "data": {
      "text/plain": [
       "{'PAÍS': {'Hombres': 17203978, 'Mujeres': 17944028},\n",
       " 'ARICA Y PARINACOTA': {'Hombres': 225162, 'Mujeres': 226974},\n",
       " 'TARAPACÁ': {'Hombres': 335586, 'Mujeres': 325530},\n",
       " 'ANTOFAGASTA': {'Hombres': 630028, 'Mujeres': 585040},\n",
       " 'ATACAMA': {'Hombres': 288840, 'Mujeres': 283496},\n",
       " 'COQUIMBO': {'Hombres': 737548, 'Mujeres': 777624},\n",
       " 'VALPARAÍSO': {'Hombres': 1760430, 'Mujeres': 1871374},\n",
       " 'METROPOLITANA DE SANTIAGO': {'Hombres': 6924534, 'Mujeres': 7301082},\n",
       " \"LIBERTADOR GENERAL BERNARDO O'HIGGINS\": {'Hombres': 907420,\n",
       "  'Mujeres': 921690},\n",
       " 'MAULE': {'Hombres': 1023248, 'Mujeres': 1066652},\n",
       " 'BIOBÍO': {'Hombres': 1966634, 'Mujeres': 2108194},\n",
       " 'LA ARAUCANÍA': {'Hombres': 930262, 'Mujeres': 984186},\n",
       " 'LOS RÍOS': {'Hombres': 377694, 'Mujeres': 391980},\n",
       " 'LOS LAGOS': {'Hombres': 818800, 'Mujeres': 838616},\n",
       " 'AYSÉN DEL GENERAL CARLOS IBÁÑEZ DEL CAMPO': {'Hombres': 107294,\n",
       "  'Mujeres': 99022},\n",
       " 'MAGALLANES Y DE LA ANTÁRTICA CHILENA': {'Hombres': 170498,\n",
       "  'Mujeres': 162568}}"
      ]
     },
     "execution_count": 6,
     "metadata": {},
     "output_type": "execute_result"
    }
   ],
   "source": [
    "data"
   ]
  },
  {
   "cell_type": "markdown",
   "id": "a4b5ae67",
   "metadata": {},
   "source": [
    "Como podemos ver tenemos total país con muchas mujeres y muchos hombres, esto se debe a que hay un total comuna y total país en la plantilla [censo.csv](data/censo.csv). Además el ejercicio debe considerar el total regional y no el total país así que debemos eliminar esto de nuestro diccionario en un futuro.\n",
    "\n",
    "Entonces debemos filtrar nuestros datos y cuando en edad (`row[7]`) encontremos la palabra Total debemos saltar esa fila. Hay varias formas de programar esto, una de ellas es la siguiente.\n"
   ]
  },
  {
   "cell_type": "code",
   "execution_count": 7,
   "id": "8146d990",
   "metadata": {},
   "outputs": [
    {
     "name": "stdout",
     "output_type": "stream",
     "text": [
      "Me salto línea de PAÍS que nos dice Total País con total hombres:8601989 total mujeres:8972014\n",
      "Me salto línea de ARICA que nos dice Total Comunal con total hombres:109389 total mujeres:111975\n",
      "Me salto línea de CAMARONES que nos dice Total Comunal con total hombres:726 total mujeres:529\n",
      "Me salto línea de PUTRE que nos dice Total Comunal con total hombres:2054 total mujeres:711\n",
      "Me salto línea de GENERAL LAGOS que nos dice Total Comunal con total hombres:412 total mujeres:272\n",
      "Me salto línea de IQUIQUE que nos dice Total Comunal con total hombres:94897 total mujeres:96571\n",
      "Me salto línea de ALTO HOSPICIO que nos dice Total Comunal con total hombres:54206 total mujeres:54169\n",
      "Me salto línea de POZO ALMONTE que nos dice Total Comunal con total hombres:8987 total mujeres:6724\n",
      "Me salto línea de CAMIÑA que nos dice Total Comunal con total hombres:657 total mujeres:593\n",
      "Me salto línea de COLCHANE que nos dice Total Comunal con total hombres:995 total mujeres:733\n",
      "Me salto línea de HUARA que nos dice Total Comunal con total hombres:1501 total mujeres:1229\n",
      "Me salto línea de PICA que nos dice Total Comunal con total hombres:6550 total mujeres:2746\n",
      "Me salto línea de ANTOFAGASTA que nos dice Total Comunal con total hombres:181846 total mujeres:180027\n",
      "Me salto línea de MEJILLONES que nos dice Total Comunal con total hombres:8035 total mujeres:5432\n",
      "Me salto línea de SIERRA GORDA que nos dice Total Comunal con total hombres:8662 total mujeres:1524\n",
      "Me salto línea de TALTAL que nos dice Total Comunal con total hombres:7481 total mujeres:5836\n",
      "Me salto línea de CALAMA que nos dice Total Comunal con total hombres:86049 total mujeres:79682\n",
      "Me salto línea de OLLAGÜE que nos dice Total Comunal con total hombres:207 total mujeres:114\n",
      "Me salto línea de SAN PEDRO DE ATACAMA que nos dice Total Comunal con total hombres:6161 total mujeres:4835\n",
      "Me salto línea de TOCOPILLA que nos dice Total Comunal con total hombres:12481 total mujeres:12705\n",
      "Me salto línea de MARÍA ELENA que nos dice Total Comunal con total hombres:4092 total mujeres:2365\n",
      "Me salto línea de COPIAPÓ que nos dice Total Comunal con total hombres:76627 total mujeres:77310\n",
      "Me salto línea de CALDERA que nos dice Total Comunal con total hombres:9094 total mujeres:8568\n",
      "Me salto línea de TIERRA AMARILLA que nos dice Total Comunal con total hombres:7796 total mujeres:6223\n",
      "Me salto línea de CHAÑARAL que nos dice Total Comunal con total hombres:6270 total mujeres:5949\n",
      "Me salto línea de DIEGO DE ALMAGRO que nos dice Total Comunal con total hombres:7486 total mujeres:6439\n",
      "Me salto línea de VALLENAR que nos dice Total Comunal con total hombres:25422 total mujeres:26495\n",
      "Me salto línea de ALTO DEL CARMEN que nos dice Total Comunal con total hombres:2925 total mujeres:2374\n",
      "Me salto línea de FREIRINA que nos dice Total Comunal con total hombres:3557 total mujeres:3484\n",
      "Me salto línea de HUASCO que nos dice Total Comunal con total hombres:5243 total mujeres:4906\n",
      "Me salto línea de LA SERENA que nos dice Total Comunal con total hombres:105836 total mujeres:115218\n",
      "Me salto línea de COQUIMBO que nos dice Total Comunal con total hombres:109872 total mujeres:117858\n",
      "Me salto línea de ANDACOLLO que nos dice Total Comunal con total hombres:5519 total mujeres:5525\n",
      "Me salto línea de LA HIGUERA que nos dice Total Comunal con total hombres:2236 total mujeres:2005\n",
      "Me salto línea de PAIGUANO que nos dice Total Comunal con total hombres:2240 total mujeres:2257\n",
      "Me salto línea de VICUÑA que nos dice Total Comunal con total hombres:13792 total mujeres:13979\n",
      "Me salto línea de ILLAPEL que nos dice Total Comunal con total hombres:14739 total mujeres:16109\n",
      "Me salto línea de CANELA que nos dice Total Comunal con total hombres:4632 total mujeres:4461\n",
      "Me salto línea de LOS VILOS que nos dice Total Comunal con total hombres:11061 total mujeres:10321\n",
      "Me salto línea de SALAMANCA que nos dice Total Comunal con total hombres:15712 total mujeres:13635\n",
      "Me salto línea de OVALLE que nos dice Total Comunal con total hombres:53619 total mujeres:57653\n",
      "Me salto línea de COMBARBALÁ que nos dice Total Comunal con total hombres:6656 total mujeres:6666\n",
      "Me salto línea de MONTE PATRIA que nos dice Total Comunal con total hombres:15270 total mujeres:15481\n",
      "Me salto línea de PUNITAQUI que nos dice Total Comunal con total hombres:5452 total mujeres:5504\n",
      "Me salto línea de RÍO HURTADO que nos dice Total Comunal con total hombres:2138 total mujeres:2140\n",
      "Me salto línea de VALPARAÍSO que nos dice Total Comunal con total hombres:144945 total mujeres:151710\n",
      "Me salto línea de CASABLANCA que nos dice Total Comunal con total hombres:13346 total mujeres:13521\n",
      "Me salto línea de CONCÓN que nos dice Total Comunal con total hombres:20321 total mujeres:21831\n",
      "Me salto línea de JUAN FERNÁNDEZ que nos dice Total Comunal con total hombres:499 total mujeres:427\n",
      "Me salto línea de PUCHUNCAVÍ que nos dice Total Comunal con total hombres:9358 total mujeres:9188\n",
      "Me salto línea de QUINTERO que nos dice Total Comunal con total hombres:15834 total mujeres:16089\n",
      "Me salto línea de VIÑA DEL MAR que nos dice Total Comunal con total hombres:158669 total mujeres:175579\n",
      "Me salto línea de ISLA DE PASCUA que nos dice Total Comunal con total hombres:3819 total mujeres:3931\n",
      "Me salto línea de LOS ANDES que nos dice Total Comunal con total hombres:33289 total mujeres:33419\n",
      "Me salto línea de CALLE LARGA que nos dice Total Comunal con total hombres:7328 total mujeres:7504\n",
      "Me salto línea de RINCONADA que nos dice Total Comunal con total hombres:5134 total mujeres:5073\n",
      "Me salto línea de SAN ESTEBAN que nos dice Total Comunal con total hombres:9303 total mujeres:9552\n",
      "Me salto línea de LA LIGUA que nos dice Total Comunal con total hombres:17340 total mujeres:18050\n",
      "Me salto línea de CABILDO que nos dice Total Comunal con total hombres:9467 total mujeres:9921\n",
      "Me salto línea de PAPUDO que nos dice Total Comunal con total hombres:3341 total mujeres:3015\n",
      "Me salto línea de PETORCA que nos dice Total Comunal con total hombres:4889 total mujeres:4937\n",
      "Me salto línea de ZAPALLAR que nos dice Total Comunal con total hombres:3704 total mujeres:3635\n",
      "Me salto línea de QUILLOTA que nos dice Total Comunal con total hombres:43537 total mujeres:46980\n",
      "Me salto línea de CALERA que nos dice Total Comunal con total hombres:24462 total mujeres:26092\n",
      "Me salto línea de HIJUELAS que nos dice Total Comunal con total hombres:9037 total mujeres:8951\n",
      "Me salto línea de LA CRUZ que nos dice Total Comunal con total hombres:10656 total mujeres:11442\n",
      "Me salto línea de NOGALES que nos dice Total Comunal con total hombres:10799 total mujeres:11321\n",
      "Me salto línea de SAN ANTONIO que nos dice Total Comunal con total hombres:44713 total mujeres:46637\n",
      "Me salto línea de ALGARROBO que nos dice Total Comunal con total hombres:6734 total mujeres:7083\n",
      "Me salto línea de CARTAGENA que nos dice Total Comunal con total hombres:11265 total mujeres:11473\n",
      "Me salto línea de EL QUISCO que nos dice Total Comunal con total hombres:7826 total mujeres:8129\n",
      "Me salto línea de EL TABO que nos dice Total Comunal con total hombres:6682 total mujeres:6604\n",
      "Me salto línea de SANTO DOMINGO que nos dice Total Comunal con total hombres:5428 total mujeres:5472\n",
      "Me salto línea de SAN FELIPE que nos dice Total Comunal con total hombres:37219 total mujeres:39625\n",
      "Me salto línea de CATEMU que nos dice Total Comunal con total hombres:6982 total mujeres:7016\n",
      "Me salto línea de LLAILLAY que nos dice Total Comunal con total hombres:12216 total mujeres:12392\n",
      "Me salto línea de PANQUEHUE que nos dice Total Comunal con total hombres:3677 total mujeres:3596\n",
      "Me salto línea de PUTAENDO que nos dice Total Comunal con total hombres:8358 total mujeres:8396\n",
      "Me salto línea de SANTA MARÍA que nos dice Total Comunal con total hombres:7586 total mujeres:7655\n",
      "Me salto línea de QUILPUÉ que nos dice Total Comunal con total hombres:71746 total mujeres:79962\n",
      "Me salto línea de LIMACHE que nos dice Total Comunal con total hombres:22353 total mujeres:23768\n",
      "Me salto línea de OLMUÉ que nos dice Total Comunal con total hombres:8597 total mujeres:8919\n",
      "Me salto línea de VILLA ALEMANA que nos dice Total Comunal con total hombres:59756 total mujeres:66792\n",
      "Me salto línea de SANTIAGO que nos dice Total Comunal con total hombres:206678 total mujeres:197817\n",
      "Me salto línea de CERRILLOS que nos dice Total Comunal con total hombres:39631 total mujeres:41201\n",
      "Me salto línea de CERRO NAVIA que nos dice Total Comunal con total hombres:65438 total mujeres:67184\n",
      "Me salto línea de CONCHALÍ que nos dice Total Comunal con total hombres:61877 total mujeres:65078\n",
      "Me salto línea de EL BOSQUE que nos dice Total Comunal con total hombres:79372 total mujeres:83133\n",
      "Me salto línea de ESTACIÓN CENTRAL que nos dice Total Comunal con total hombres:73458 total mujeres:73583\n",
      "Me salto línea de HUECHURABA que nos dice Total Comunal con total hombres:48122 total mujeres:50549\n",
      "Me salto línea de INDEPENDENCIA que nos dice Total Comunal con total hombres:49186 total mujeres:51095\n",
      "Me salto línea de LA CISTERNA que nos dice Total Comunal con total hombres:43147 total mujeres:46972\n",
      "Me salto línea de LA FLORIDA que nos dice Total Comunal con total hombres:175693 total mujeres:191223\n",
      "Me salto línea de LA GRANJA que nos dice Total Comunal con total hombres:57025 total mujeres:59546\n",
      "Me salto línea de LA PINTANA que nos dice Total Comunal con total hombres:87044 total mujeres:90291\n",
      "Me salto línea de LA REINA que nos dice Total Comunal con total hombres:43599 total mujeres:49188\n",
      "Me salto línea de LAS CONDES que nos dice Total Comunal con total hombres:135917 total mujeres:158921\n",
      "Me salto línea de LO BARNECHEA que nos dice Total Comunal con total hombres:50500 total mujeres:55333\n",
      "Me salto línea de LO ESPEJO que nos dice Total Comunal con total hombres:49146 total mujeres:49658\n",
      "Me salto línea de LO PRADO que nos dice Total Comunal con total hombres:46799 total mujeres:49450\n",
      "Me salto línea de MACUL que nos dice Total Comunal con total hombres:55161 total mujeres:61373\n",
      "Me salto línea de MAIPÚ que nos dice Total Comunal con total hombres:250792 total mujeres:270835\n",
      "Me salto línea de ÑUÑOA que nos dice Total Comunal con total hombres:95409 total mujeres:112828\n",
      "Me salto línea de PEDRO AGUIRRE CERDA que nos dice Total Comunal con total hombres:49513 total mujeres:51661\n",
      "Me salto línea de PEÑALOLÉN que nos dice Total Comunal con total hombres:116882 total mujeres:124717\n",
      "Me salto línea de PROVIDENCIA que nos dice Total Comunal con total hombres:65710 total mujeres:76369\n",
      "Me salto línea de PUDAHUEL que nos dice Total Comunal con total hombres:112412 total mujeres:117881\n",
      "Me salto línea de QUILICURA que nos dice Total Comunal con total hombres:103456 total mujeres:106954\n",
      "Me salto línea de QUINTA NORMAL que nos dice Total Comunal con total hombres:53669 total mujeres:56357\n",
      "Me salto línea de RECOLETA que nos dice Total Comunal con total hombres:77709 total mujeres:80142\n",
      "Me salto línea de RENCA que nos dice Total Comunal con total hombres:72681 total mujeres:74470\n",
      "Me salto línea de SAN JOAQUÍN que nos dice Total Comunal con total hombres:45831 total mujeres:48661\n",
      "Me salto línea de SAN MIGUEL que nos dice Total Comunal con total hombres:50738 total mujeres:57216\n",
      "Me salto línea de SAN RAMÓN que nos dice Total Comunal con total hombres:40873 total mujeres:42027\n",
      "Me salto línea de VITACURA que nos dice Total Comunal con total hombres:38402 total mujeres:46982\n",
      "Me salto línea de PUENTE ALTO que nos dice Total Comunal con total hombres:275147 total mujeres:292959\n",
      "Me salto línea de PIRQUE que nos dice Total Comunal con total hombres:13429 total mujeres:13092\n",
      "Me salto línea de SAN JOSÉ DE MAIPO que nos dice Total Comunal con total hombres:9861 total mujeres:8328\n",
      "Me salto línea de COLINA que nos dice Total Comunal con total hombres:74635 total mujeres:71572\n",
      "Me salto línea de LAMPA que nos dice Total Comunal con total hombres:51545 total mujeres:50489\n",
      "Me salto línea de TILTIL que nos dice Total Comunal con total hombres:10047 total mujeres:9265\n",
      "Me salto línea de SAN BERNARDO que nos dice Total Comunal con total hombres:147800 total mujeres:153513\n",
      "Me salto línea de BUIN que nos dice Total Comunal con total hombres:47575 total mujeres:49039\n",
      "Me salto línea de CALERA DE TANGO que nos dice Total Comunal con total hombres:12718 total mujeres:12674\n",
      "Me salto línea de PAINE que nos dice Total Comunal con total hombres:36521 total mujeres:36238\n",
      "Me salto línea de MELIPILLA que nos dice Total Comunal con total hombres:61410 total mujeres:62217\n",
      "Me salto línea de ALHUÉ que nos dice Total Comunal con total hombres:3516 total mujeres:2928\n",
      "Me salto línea de CURACAVÍ que nos dice Total Comunal con total hombres:16222 total mujeres:16357\n",
      "Me salto línea de MARÍA PINTO que nos dice Total Comunal con total hombres:6830 total mujeres:6760\n",
      "Me salto línea de SAN PEDRO que nos dice Total Comunal con total hombres:5132 total mujeres:4594\n",
      "Me salto línea de TALAGANTE que nos dice Total Comunal con total hombres:36769 total mujeres:37468\n",
      "Me salto línea de EL MONTE que nos dice Total Comunal con total hombres:17793 total mujeres:18130\n",
      "Me salto línea de ISLA DE MAIPO que nos dice Total Comunal con total hombres:18051 total mujeres:18168\n",
      "Me salto línea de PADRE HURTADO que nos dice Total Comunal con total hombres:31452 total mujeres:31798\n",
      "Me salto línea de PEÑAFLOR que nos dice Total Comunal con total hombres:43944 total mujeres:46257\n",
      "Me salto línea de RANCAGUA que nos dice Total Comunal con total hombres:117942 total mujeres:123832\n",
      "Me salto línea de CODEGUA que nos dice Total Comunal con total hombres:6510 total mujeres:6478\n",
      "Me salto línea de COINCO que nos dice Total Comunal con total hombres:3729 total mujeres:3630\n",
      "Me salto línea de COLTAUCO que nos dice Total Comunal con total hombres:9806 total mujeres:9791\n",
      "Me salto línea de DOÑIHUE que nos dice Total Comunal con total hombres:10394 total mujeres:10493\n",
      "Me salto línea de GRANEROS que nos dice Total Comunal con total hombres:16634 total mujeres:16803\n",
      "Me salto línea de LAS CABRAS que nos dice Total Comunal con total hombres:12656 total mujeres:11984\n",
      "Me salto línea de MACHALÍ que nos dice Total Comunal con total hombres:25585 total mujeres:26920\n",
      "Me salto línea de MALLOA que nos dice Total Comunal con total hombres:6819 total mujeres:6588\n",
      "Me salto línea de MOSTAZAL que nos dice Total Comunal con total hombres:12663 total mujeres:12680\n",
      "Me salto línea de OLIVAR que nos dice Total Comunal con total hombres:6822 total mujeres:6786\n",
      "Me salto línea de PEUMO que nos dice Total Comunal con total hombres:7237 total mujeres:7076\n",
      "Me salto línea de PICHIDEGUA que nos dice Total Comunal con total hombres:10080 total mujeres:9634\n",
      "Me salto línea de QUINTA DE TILCOCO que nos dice Total Comunal con total hombres:6519 total mujeres:6483\n",
      "Me salto línea de RENGO que nos dice Total Comunal con total hombres:28844 total mujeres:29981\n",
      "Me salto línea de REQUÍNOA que nos dice Total Comunal con total hombres:14125 total mujeres:13843\n",
      "Me salto línea de SAN VICENTE que nos dice Total Comunal con total hombres:23302 total mujeres:23464\n",
      "Me salto línea de PICHILEMU que nos dice Total Comunal con total hombres:8289 total mujeres:8105\n",
      "Me salto línea de LA ESTRELLA que nos dice Total Comunal con total hombres:1603 total mujeres:1438\n",
      "Me salto línea de LITUECHE que nos dice Total Comunal con total hombres:3287 total mujeres:3007\n",
      "Me salto línea de MARCHIHUE que nos dice Total Comunal con total hombres:3745 total mujeres:3563\n",
      "Me salto línea de NAVIDAD que nos dice Total Comunal con total hombres:3475 total mujeres:3166\n",
      "Me salto línea de PAREDONES que nos dice Total Comunal con total hombres:3220 total mujeres:2968\n",
      "Me salto línea de SAN FERNANDO que nos dice Total Comunal con total hombres:36077 total mujeres:37896\n",
      "Me salto línea de CHÉPICA que nos dice Total Comunal con total hombres:7577 total mujeres:7460\n",
      "Me salto línea de CHIMBARONGO que nos dice Total Comunal con total hombres:17824 total mujeres:17575\n",
      "Me salto línea de LOLOL que nos dice Total Comunal con total hombres:3471 total mujeres:3340\n",
      "Me salto línea de NANCAGUA que nos dice Total Comunal con total hombres:8830 total mujeres:9003\n",
      "Me salto línea de PALMILLA que nos dice Total Comunal con total hombres:6331 total mujeres:6151\n",
      "Me salto línea de PERALILLO que nos dice Total Comunal con total hombres:5538 total mujeres:5469\n",
      "Me salto línea de PLACILLA que nos dice Total Comunal con total hombres:4432 total mujeres:4306\n",
      "Me salto línea de PUMANQUE que nos dice Total Comunal con total hombres:1751 total mujeres:1670\n",
      "Me salto línea de SANTA CRUZ que nos dice Total Comunal con total hombres:18593 total mujeres:19262\n",
      "Me salto línea de TALCA que nos dice Total Comunal con total hombres:105622 total mujeres:114735\n",
      "Me salto línea de CONSTITUCIÓN que nos dice Total Comunal con total hombres:23005 total mujeres:23063\n",
      "Me salto línea de CUREPTO que nos dice Total Comunal con total hombres:4852 total mujeres:4596\n",
      "Me salto línea de EMPEDRADO que nos dice Total Comunal con total hombres:2199 total mujeres:1943\n",
      "Me salto línea de MAULE que nos dice Total Comunal con total hombres:24259 total mujeres:25462\n",
      "Me salto línea de PELARCO que nos dice Total Comunal con total hombres:4231 total mujeres:4191\n",
      "Me salto línea de PENCAHUE que nos dice Total Comunal con total hombres:4242 total mujeres:4003\n",
      "Me salto línea de RÍO CLARO que nos dice Total Comunal con total hombres:7246 total mujeres:6660\n",
      "Me salto línea de SAN CLEMENTE que nos dice Total Comunal con total hombres:21677 total mujeres:21592\n",
      "Me salto línea de SAN RAFAEL que nos dice Total Comunal con total hombres:4569 total mujeres:4622\n",
      "Me salto línea de CAUQUENES que nos dice Total Comunal con total hombres:19314 total mujeres:21127\n",
      "Me salto línea de CHANCO que nos dice Total Comunal con total hombres:4450 total mujeres:4478\n",
      "Me salto línea de PELLUHUE que nos dice Total Comunal con total hombres:3765 total mujeres:3806\n",
      "Me salto línea de CURICÓ que nos dice Total Comunal con total hombres:72511 total mujeres:76625\n",
      "Me salto línea de HUALAÑÉ que nos dice Total Comunal con total hombres:4883 total mujeres:4774\n",
      "Me salto línea de LICANTÉN que nos dice Total Comunal con total hombres:3353 total mujeres:3300\n",
      "Me salto línea de MOLINA que nos dice Total Comunal con total hombres:22635 total mujeres:23341\n",
      "Me salto línea de RAUCO que nos dice Total Comunal con total hombres:5238 total mujeres:5246\n",
      "Me salto línea de ROMERAL que nos dice Total Comunal con total hombres:7624 total mujeres:7563\n",
      "Me salto línea de SAGRADA FAMILIA que nos dice Total Comunal con total hombres:9384 total mujeres:9160\n",
      "Me salto línea de TENO que nos dice Total Comunal con total hombres:14764 total mujeres:14157\n",
      "Me salto línea de VICHUQUÉN que nos dice Total Comunal con total hombres:2217 total mujeres:2105\n",
      "Me salto línea de LINARES que nos dice Total Comunal con total hombres:44671 total mujeres:48931\n",
      "Me salto línea de COLBÚN que nos dice Total Comunal con total hombres:10205 total mujeres:10560\n",
      "Me salto línea de LONGAVÍ que nos dice Total Comunal con total hombres:15482 total mujeres:15052\n",
      "Me salto línea de PARRAL que nos dice Total Comunal con total hombres:20165 total mujeres:21472\n",
      "Me salto línea de RETIRO que nos dice Total Comunal con total hombres:10054 total mujeres:9920\n",
      "Me salto línea de SAN JAVIER que nos dice Total Comunal con total hombres:22002 total mujeres:23545\n",
      "Me salto línea de VILLA ALEGRE que nos dice Total Comunal con total hombres:7880 total mujeres:8341\n",
      "Me salto línea de YERBAS BUENAS que nos dice Total Comunal con total hombres:9125 total mujeres:8956\n",
      "Me salto línea de CONCEPCIÓN que nos dice Total Comunal con total hombres:107624 total mujeres:115950\n",
      "Me salto línea de CORONEL que nos dice Total Comunal con total hombres:55799 total mujeres:60463\n",
      "Me salto línea de CHIGUAYANTE que nos dice Total Comunal con total hombres:40505 total mujeres:45433\n",
      "Me salto línea de FLORIDA que nos dice Total Comunal con total hombres:5386 total mujeres:5238\n",
      "Me salto línea de HUALQUI que nos dice Total Comunal con total hombres:11843 total mujeres:12490\n",
      "Me salto línea de LOTA que nos dice Total Comunal con total hombres:20950 total mujeres:22585\n",
      "Me salto línea de PENCO que nos dice Total Comunal con total hombres:22617 total mujeres:24750\n",
      "Me salto línea de SAN PEDRO DE LA PAZ que nos dice Total Comunal con total hombres:62941 total mujeres:68867\n",
      "Me salto línea de SANTA JUANA que nos dice Total Comunal con total hombres:6751 total mujeres:6998\n",
      "Me salto línea de TALCAHUANO que nos dice Total Comunal con total hombres:72993 total mujeres:78756\n",
      "Me salto línea de TOMÉ que nos dice Total Comunal con total hombres:25919 total mujeres:29027\n",
      "Me salto línea de HUALPÉN que nos dice Total Comunal con total hombres:43488 total mujeres:48285\n",
      "Me salto línea de LEBU que nos dice Total Comunal con total hombres:12441 total mujeres:13081\n",
      "Me salto línea de ARAUCO que nos dice Total Comunal con total hombres:17875 total mujeres:18382\n",
      "Me salto línea de CAÑETE que nos dice Total Comunal con total hombres:16641 total mujeres:17896\n",
      "Me salto línea de CONTULMO que nos dice Total Comunal con total hombres:3028 total mujeres:3003\n",
      "Me salto línea de CURANILAHUE que nos dice Total Comunal con total hombres:15828 total mujeres:16460\n",
      "Me salto línea de LOS ÁLAMOS que nos dice Total Comunal con total hombres:10203 total mujeres:10832\n",
      "Me salto línea de TIRÚA que nos dice Total Comunal con total hombres:5195 total mujeres:5222\n",
      "Me salto línea de LOS ÁNGELES que nos dice Total Comunal con total hombres:97980 total mujeres:104351\n",
      "Me salto línea de ANTUCO que nos dice Total Comunal con total hombres:1975 total mujeres:2098\n",
      "Me salto línea de CABRERO que nos dice Total Comunal con total hombres:14174 total mujeres:14399\n",
      "Me salto línea de LAJA que nos dice Total Comunal con total hombres:10744 total mujeres:11645\n",
      "Me salto línea de MULCHÉN que nos dice Total Comunal con total hombres:14597 total mujeres:15030\n",
      "Me salto línea de NACIMIENTO que nos dice Total Comunal con total hombres:12962 total mujeres:13353\n",
      "Me salto línea de NEGRETE que nos dice Total Comunal con total hombres:4813 total mujeres:4924\n",
      "Me salto línea de QUILACO que nos dice Total Comunal con total hombres:2001 total mujeres:1987\n",
      "Me salto línea de QUILLECO que nos dice Total Comunal con total hombres:4720 total mujeres:4867\n",
      "Me salto línea de SAN ROSENDO que nos dice Total Comunal con total hombres:1661 total mujeres:1751\n",
      "Me salto línea de SANTA BÁRBARA que nos dice Total Comunal con total hombres:6699 total mujeres:7074\n",
      "Me salto línea de TUCAPEL que nos dice Total Comunal con total hombres:6876 total mujeres:7258\n",
      "Me salto línea de YUMBEL que nos dice Total Comunal con total hombres:10465 total mujeres:10733\n",
      "Me salto línea de ALTO BIOBÍO que nos dice Total Comunal con total hombres:3036 total mujeres:2887\n",
      "Me salto línea de CHILLÁN * que nos dice Total Comunal con total hombres:87521 total mujeres:97218\n",
      "Me salto línea de BULNES * que nos dice Total Comunal con total hombres:10382 total mujeres:11111\n",
      "Me salto línea de COBQUECURA * que nos dice Total Comunal con total hombres:2525 total mujeres:2487\n",
      "Me salto línea de COELEMU * que nos dice Total Comunal con total hombres:7873 total mujeres:8122\n",
      "Me salto línea de COIHUECO * que nos dice Total Comunal con total hombres:13424 total mujeres:13457\n",
      "Me salto línea de CHILLÁN VIEJO * que nos dice Total Comunal con total hombres:14581 total mujeres:16326\n",
      "Me salto línea de EL CARMEN * que nos dice Total Comunal con total hombres:5967 total mujeres:6077\n",
      "Me salto línea de NINHUE * que nos dice Total Comunal con total hombres:2567 total mujeres:2646\n",
      "Me salto línea de ÑIQUÉN * que nos dice Total Comunal con total hombres:5616 total mujeres:5536\n",
      "Me salto línea de PEMUCO * que nos dice Total Comunal con total hombres:4221 total mujeres:4227\n",
      "Me salto línea de PINTO * que nos dice Total Comunal con total hombres:5336 total mujeres:5491\n",
      "Me salto línea de PORTEZUELO * que nos dice Total Comunal con total hombres:2416 total mujeres:2446\n",
      "Me salto línea de QUILLÓN * que nos dice Total Comunal con total hombres:8664 total mujeres:8821\n",
      "Me salto línea de QUIRIHUE * que nos dice Total Comunal con total hombres:5679 total mujeres:5915\n",
      "Me salto línea de RÁNQUIL * que nos dice Total Comunal con total hombres:2842 total mujeres:2913\n",
      "Me salto línea de SAN CARLOS * que nos dice Total Comunal con total hombres:25425 total mujeres:27599\n",
      "Me salto línea de SAN FABIÁN * que nos dice Total Comunal con total hombres:2203 total mujeres:2105\n",
      "Me salto línea de SAN IGNACIO * que nos dice Total Comunal con total hombres:7882 total mujeres:8197\n",
      "Me salto línea de SAN NICOLÁS * que nos dice Total Comunal con total hombres:5796 total mujeres:5807\n",
      "Me salto línea de TREGUACO * que nos dice Total Comunal con total hombres:2703 total mujeres:2698\n",
      "Me salto línea de YUNGAY * que nos dice Total Comunal con total hombres:8964 total mujeres:8823\n",
      "Me salto línea de TEMUCO que nos dice Total Comunal con total hombres:134289 total mujeres:148126\n",
      "Me salto línea de CARAHUE que nos dice Total Comunal con total hombres:12202 total mujeres:12331\n",
      "Me salto línea de CUNCO que nos dice Total Comunal con total hombres:8765 total mujeres:8761\n",
      "Me salto línea de CURARREHUE que nos dice Total Comunal con total hombres:3821 total mujeres:3668\n",
      "Me salto línea de FREIRE que nos dice Total Comunal con total hombres:12413 total mujeres:12193\n",
      "Me salto línea de GALVARINO que nos dice Total Comunal con total hombres:6032 total mujeres:5964\n",
      "Me salto línea de GORBEA que nos dice Total Comunal con total hombres:6945 total mujeres:7469\n",
      "Me salto línea de LAUTARO que nos dice Total Comunal con total hombres:18448 total mujeres:19565\n",
      "Me salto línea de LONCOCHE que nos dice Total Comunal con total hombres:11502 total mujeres:12110\n",
      "Me salto línea de MELIPEUCO que nos dice Total Comunal con total hombres:3091 total mujeres:3047\n",
      "Me salto línea de NUEVA IMPERIAL que nos dice Total Comunal con total hombres:15870 total mujeres:16640\n",
      "Me salto línea de PADRE LAS CASAS que nos dice Total Comunal con total hombres:36996 total mujeres:39130\n",
      "Me salto línea de PERQUENCO que nos dice Total Comunal con total hombres:3395 total mujeres:3510\n",
      "Me salto línea de PITRUFQUÉN que nos dice Total Comunal con total hombres:12065 total mujeres:12772\n",
      "Me salto línea de PUCÓN que nos dice Total Comunal con total hombres:14106 total mujeres:14417\n",
      "Me salto línea de SAAVEDRA que nos dice Total Comunal con total hombres:6129 total mujeres:6321\n",
      "Me salto línea de TEODORO SCHMIDT que nos dice Total Comunal con total hombres:7526 total mujeres:7519\n",
      "Me salto línea de TOLTÉN que nos dice Total Comunal con total hombres:4883 total mujeres:4839\n",
      "Me salto línea de VILCÚN que nos dice Total Comunal con total hombres:13873 total mujeres:14278\n",
      "Me salto línea de VILLARRICA que nos dice Total Comunal con total hombres:27196 total mujeres:28282\n",
      "Me salto línea de CHOLCHOL que nos dice Total Comunal con total hombres:5773 total mujeres:5838\n",
      "Me salto línea de ANGOL que nos dice Total Comunal con total hombres:25613 total mujeres:27649\n",
      "Me salto línea de COLLIPULLI que nos dice Total Comunal con total hombres:12064 total mujeres:12534\n",
      "Me salto línea de CURACAUTÍN que nos dice Total Comunal con total hombres:8376 total mujeres:9037\n",
      "Me salto línea de ERCILLA que nos dice Total Comunal con total hombres:3817 total mujeres:3916\n",
      "Me salto línea de LONQUIMAY que nos dice Total Comunal con total hombres:5346 total mujeres:4905\n",
      "Me salto línea de LOS SAUCES que nos dice Total Comunal con total hombres:3607 total mujeres:3658\n",
      "Me salto línea de LUMACO que nos dice Total Comunal con total hombres:4927 total mujeres:4621\n",
      "Me salto línea de PURÉN que nos dice Total Comunal con total hombres:5677 total mujeres:6102\n",
      "Me salto línea de RENAICO que nos dice Total Comunal con total hombres:4957 total mujeres:5293\n",
      "Me salto línea de TRAIGUÉN que nos dice Total Comunal con total hombres:9019 total mujeres:9824\n",
      "Me salto línea de VICTORIA que nos dice Total Comunal con total hombres:16408 total mujeres:17774\n",
      "Me salto línea de VALDIVIA que nos dice Total Comunal con total hombres:80348 total mujeres:85732\n",
      "Me salto línea de CORRAL que nos dice Total Comunal con total hombres:2635 total mujeres:2667\n",
      "Me salto línea de LANCO que nos dice Total Comunal con total hombres:8224 total mujeres:8528\n",
      "Me salto línea de LOS LAGOS que nos dice Total Comunal con total hombres:9757 total mujeres:9877\n",
      "Me salto línea de MÁFIL que nos dice Total Comunal con total hombres:3492 total mujeres:3603\n",
      "Me salto línea de MARIQUINA que nos dice Total Comunal con total hombres:10607 total mujeres:10671\n",
      "Me salto línea de PAILLACO que nos dice Total Comunal con total hombres:10067 total mujeres:10121\n",
      "Me salto línea de PANGUIPULLI que nos dice Total Comunal con total hombres:17199 total mujeres:17340\n",
      "Me salto línea de LA UNIÓN que nos dice Total Comunal con total hombres:18729 total mujeres:19307\n",
      "Me salto línea de FUTRONO que nos dice Total Comunal con total hombres:7252 total mujeres:7413\n",
      "Me salto línea de LAGO RANCO que nos dice Total Comunal con total hombres:5045 total mujeres:4851\n",
      "Me salto línea de RÍO BUENO que nos dice Total Comunal con total hombres:15492 total mujeres:15880\n",
      "Me salto línea de PUERTO MONTT que nos dice Total Comunal con total hombres:121019 total mujeres:124883\n",
      "Me salto línea de CALBUCO que nos dice Total Comunal con total hombres:17104 total mujeres:16881\n",
      "Me salto línea de COCHAMÓ que nos dice Total Comunal con total hombres:2195 total mujeres:1828\n",
      "Me salto línea de FRESIA que nos dice Total Comunal con total hombres:6181 total mujeres:6080\n",
      "Me salto línea de FRUTILLAR que nos dice Total Comunal con total hombres:9093 total mujeres:9335\n",
      "Me salto línea de LOS MUERMOS que nos dice Total Comunal con total hombres:8681 total mujeres:8387\n",
      "Me salto línea de LLANQUIHUE que nos dice Total Comunal con total hombres:8627 total mujeres:8964\n",
      "Me salto línea de MAULLÍN que nos dice Total Comunal con total hombres:7231 total mujeres:6985\n",
      "Me salto línea de PUERTO VARAS que nos dice Total Comunal con total hombres:21878 total mujeres:22700\n",
      "Me salto línea de CASTRO que nos dice Total Comunal con total hombres:21471 total mujeres:22336\n",
      "Me salto línea de ANCUD que nos dice Total Comunal con total hombres:19029 total mujeres:19962\n",
      "Me salto línea de CHONCHI que nos dice Total Comunal con total hombres:7445 total mujeres:7413\n",
      "Me salto línea de CURACO DE VÉLEZ que nos dice Total Comunal con total hombres:1853 total mujeres:1976\n",
      "Me salto línea de DALCAHUE que nos dice Total Comunal con total hombres:6913 total mujeres:6849\n",
      "Me salto línea de PUQUELDÓN que nos dice Total Comunal con total hombres:1973 total mujeres:1948\n",
      "Me salto línea de QUEILÉN que nos dice Total Comunal con total hombres:2773 total mujeres:2612\n",
      "Me salto línea de QUELLÓN que nos dice Total Comunal con total hombres:13857 total mujeres:13335\n",
      "Me salto línea de QUEMCHI que nos dice Total Comunal con total hombres:4308 total mujeres:4044\n",
      "Me salto línea de QUINCHAO que nos dice Total Comunal con total hombres:3941 total mujeres:4147\n",
      "Me salto línea de OSORNO que nos dice Total Comunal con total hombres:77155 total mujeres:84305\n",
      "Me salto línea de PUERTO OCTAY que nos dice Total Comunal con total hombres:4721 total mujeres:4278\n",
      "Me salto línea de PURRANQUE que nos dice Total Comunal con total hombres:9976 total mujeres:10393\n",
      "Me salto línea de PUYEHUE que nos dice Total Comunal con total hombres:5958 total mujeres:5709\n",
      "Me salto línea de RÍO NEGRO que nos dice Total Comunal con total hombres:7051 total mujeres:7034\n",
      "Me salto línea de SAN JUAN DE LA COSTA que nos dice Total Comunal con total hombres:4011 total mujeres:3501\n",
      "Me salto línea de SAN PABLO que nos dice Total Comunal con total hombres:4978 total mujeres:5052\n",
      "Me salto línea de CHAITÉN que nos dice Total Comunal con total hombres:3016 total mujeres:2055\n",
      "Me salto línea de FUTALEUFÚ que nos dice Total Comunal con total hombres:1375 total mujeres:1248\n",
      "Me salto línea de HUALAIHUÉ que nos dice Total Comunal con total hombres:4701 total mujeres:4243\n",
      "Me salto línea de PALENA que nos dice Total Comunal con total hombres:886 total mujeres:825\n",
      "Me salto línea de COYHAIQUE que nos dice Total Comunal con total hombres:28763 total mujeres:29055\n",
      "Me salto línea de LAGO VERDE que nos dice Total Comunal con total hombres:494 total mujeres:358\n",
      "Me salto línea de AYSÉN que nos dice Total Comunal con total hombres:12719 total mujeres:11240\n",
      "Me salto línea de CISNES que nos dice Total Comunal con total hombres:3922 total mujeres:2595\n",
      "Me salto línea de GUAITECAS que nos dice Total Comunal con total hombres:1166 total mujeres:677\n",
      "Me salto línea de COCHRANE que nos dice Total Comunal con total hombres:1902 total mujeres:1588\n",
      "Me salto línea de O'HIGGINS que nos dice Total Comunal con total hombres:374 total mujeres:251\n",
      "Me salto línea de TORTEL que nos dice Total Comunal con total hombres:285 total mujeres:238\n",
      "Me salto línea de CHILE CHICO que nos dice Total Comunal con total hombres:2577 total mujeres:2288\n",
      "Me salto línea de RÍO IBÁÑEZ que nos dice Total Comunal con total hombres:1445 total mujeres:1221\n",
      "Me salto línea de PUNTA ARENAS que nos dice Total Comunal con total hombres:65538 total mujeres:66054\n",
      "Me salto línea de LAGUNA BLANCA que nos dice Total Comunal con total hombres:191 total mujeres:83\n",
      "Me salto línea de RÍO VERDE que nos dice Total Comunal con total hombres:522 total mujeres:95\n",
      "Me salto línea de SAN GREGORIO que nos dice Total Comunal con total hombres:619 total mujeres:180\n",
      "Me salto línea de CABO DE HORNOS que nos dice Total Comunal con total hombres:1195 total mujeres:868\n",
      "Me salto línea de ANTÁRTICA que nos dice Total Comunal con total hombres:126 total mujeres:12\n",
      "Me salto línea de PORVENIR que nos dice Total Comunal con total hombres:3993 total mujeres:2808\n",
      "Me salto línea de PRIMAVERA que nos dice Total Comunal con total hombres:930 total mujeres:228\n",
      "Me salto línea de TIMAUKEL que nos dice Total Comunal con total hombres:343 total mujeres:62\n",
      "Me salto línea de NATALES que nos dice Total Comunal con total hombres:10992 total mujeres:10485\n",
      "Me salto línea de TORRES DEL PAINE que nos dice Total Comunal con total hombres:800 total mujeres:409\n"
     ]
    }
   ],
   "source": [
    "data={}\n",
    "#agregamos el string total\n",
    "total=\"Total\"\n",
    "\n",
    "with open('data/censo.csv') as archivo_csv:\n",
    "    lector = csv.reader(archivo_csv, delimiter=',')\n",
    "    contador=0;\n",
    "    for row in lector:\n",
    "        if contador==0:\n",
    "            contador=1;\n",
    "        else:\n",
    "            if total in row[7]:\n",
    "                print(\"Me salto línea de \"+row[5]+\" que nos dice \"+row[7]+\" con total hombres:\"+ row[8] + \" total mujeres:\"+row[9])\n",
    "            else:\n",
    "                try:\n",
    "                    data[row[1]]['Mujeres']=data[row[1]]['Mujeres']+int(row[9])\n",
    "                    data[row[1]]['Hombres']=data[row[1]]['Hombres']+int(row[8])\n",
    "                except KeyError:\n",
    "                    data[row[1]]={'Hombres':0, 'Mujeres': 0}\n",
    "                    data[row[1]]['Mujeres']=int(row[9])\n",
    "                    data[row[1]]['Hombres']=int(row[8])\n",
    "            \n",
    "\n",
    "            "
   ]
  },
  {
   "cell_type": "code",
   "execution_count": 8,
   "id": "edd05f94",
   "metadata": {},
   "outputs": [
    {
     "data": {
      "text/plain": [
       "{'PAÍS': {'Hombres': 8601989, 'Mujeres': 8972014},\n",
       " 'ARICA Y PARINACOTA': {'Hombres': 112581, 'Mujeres': 113487},\n",
       " 'TARAPACÁ': {'Hombres': 167793, 'Mujeres': 162765},\n",
       " 'ANTOFAGASTA': {'Hombres': 315014, 'Mujeres': 292520},\n",
       " 'ATACAMA': {'Hombres': 144420, 'Mujeres': 141748},\n",
       " 'COQUIMBO': {'Hombres': 368774, 'Mujeres': 388812},\n",
       " 'VALPARAÍSO': {'Hombres': 880215, 'Mujeres': 935687},\n",
       " 'METROPOLITANA DE SANTIAGO': {'Hombres': 3462267, 'Mujeres': 3650541},\n",
       " \"LIBERTADOR GENERAL BERNARDO O'HIGGINS\": {'Hombres': 453710,\n",
       "  'Mujeres': 460845},\n",
       " 'MAULE': {'Hombres': 511624, 'Mujeres': 533326},\n",
       " 'BIOBÍO': {'Hombres': 983317, 'Mujeres': 1054097},\n",
       " 'LA ARAUCANÍA': {'Hombres': 465131, 'Mujeres': 492093},\n",
       " 'LOS RÍOS': {'Hombres': 188847, 'Mujeres': 195990},\n",
       " 'LOS LAGOS': {'Hombres': 409400, 'Mujeres': 419308},\n",
       " 'AYSÉN DEL GENERAL CARLOS IBÁÑEZ DEL CAMPO': {'Hombres': 53647,\n",
       "  'Mujeres': 49511},\n",
       " 'MAGALLANES Y DE LA ANTÁRTICA CHILENA': {'Hombres': 85249, 'Mujeres': 81284}}"
      ]
     },
     "execution_count": 8,
     "metadata": {},
     "output_type": "execute_result"
    }
   ],
   "source": [
    "data"
   ]
  },
  {
   "cell_type": "markdown",
   "id": "8fe79651",
   "metadata": {},
   "source": [
    "Ahora podemos ver que efectivamente tenemos aprox: 18 millones de habitantes.  \n",
    "\n",
    "Borramos de nuestro diccionario a PAÍS"
   ]
  },
  {
   "cell_type": "code",
   "execution_count": 9,
   "id": "b7f66aec",
   "metadata": {},
   "outputs": [],
   "source": [
    "del data['PAÍS']"
   ]
  },
  {
   "cell_type": "code",
   "execution_count": 10,
   "id": "b0a3939f",
   "metadata": {},
   "outputs": [
    {
     "data": {
      "text/plain": [
       "{'ARICA Y PARINACOTA': {'Hombres': 112581, 'Mujeres': 113487},\n",
       " 'TARAPACÁ': {'Hombres': 167793, 'Mujeres': 162765},\n",
       " 'ANTOFAGASTA': {'Hombres': 315014, 'Mujeres': 292520},\n",
       " 'ATACAMA': {'Hombres': 144420, 'Mujeres': 141748},\n",
       " 'COQUIMBO': {'Hombres': 368774, 'Mujeres': 388812},\n",
       " 'VALPARAÍSO': {'Hombres': 880215, 'Mujeres': 935687},\n",
       " 'METROPOLITANA DE SANTIAGO': {'Hombres': 3462267, 'Mujeres': 3650541},\n",
       " \"LIBERTADOR GENERAL BERNARDO O'HIGGINS\": {'Hombres': 453710,\n",
       "  'Mujeres': 460845},\n",
       " 'MAULE': {'Hombres': 511624, 'Mujeres': 533326},\n",
       " 'BIOBÍO': {'Hombres': 983317, 'Mujeres': 1054097},\n",
       " 'LA ARAUCANÍA': {'Hombres': 465131, 'Mujeres': 492093},\n",
       " 'LOS RÍOS': {'Hombres': 188847, 'Mujeres': 195990},\n",
       " 'LOS LAGOS': {'Hombres': 409400, 'Mujeres': 419308},\n",
       " 'AYSÉN DEL GENERAL CARLOS IBÁÑEZ DEL CAMPO': {'Hombres': 53647,\n",
       "  'Mujeres': 49511},\n",
       " 'MAGALLANES Y DE LA ANTÁRTICA CHILENA': {'Hombres': 85249, 'Mujeres': 81284}}"
      ]
     },
     "execution_count": 10,
     "metadata": {},
     "output_type": "execute_result"
    }
   ],
   "source": [
    "data"
   ]
  },
  {
   "cell_type": "markdown",
   "id": "29c149e6",
   "metadata": {},
   "source": [
    "\n",
    "## Ahora graficaremos la data  \n",
    "\n",
    "Para esto, crearemos una figura de plt llamada `fig` y los ejes llamados `ax`"
   ]
  },
  {
   "cell_type": "code",
   "execution_count": 11,
   "id": "c5b5bf36",
   "metadata": {},
   "outputs": [
    {
     "data": {
      "image/png": "[encoded data removed]",
      "text/plain": [
       "<Figure size 432x288 with 1 Axes>"
      ]
     },
     "metadata": {
      "needs_background": "light"
     },
     "output_type": "display_data"
    }
   ],
   "source": [
    "fig,ax = plt.subplots()\n",
    "\n",
    "#nuestras etiquetas serán las regiones, es decir las key de data pero entregadas como lista\n",
    "etiquetas=list(data.keys())\n",
    "\n",
    "#Ahora generamos una lista con todos los valores de los hombres y mujeres por región \n",
    "hombres=[]\n",
    "mujeres=[]\n",
    "for etiqueta in etiquetas:\n",
    "    hombres.append(data[etiqueta]['Hombres'])\n",
    "    mujeres.append(data[etiqueta]['Mujeres'])\n",
    "\n",
    "    \n",
    "   \n",
    "# Tenemos que definir la posición de las etiquetas en la gráfica o quedará todo desordenado \n",
    "#y además como dividir el eje para cada barra\n",
    "\n",
    "ejeX = np.arange(len(etiquetas))\n",
    "\n",
    "\n",
    "# Tenemos que hacer dos barras  que serán la cantidad de hombres y mujeres, \n",
    "#para esto definiremos el ancho de cada barra\n",
    "\n",
    "ancho=0.5\n",
    "\n",
    "#la primera barra irá en la mitad de la izquierda y la segunda en la mitad de la derecha\n",
    "\n",
    "barraH = ax.bar(ejeX - ancho/2, hombres, ancho, label='Hombres',color=\"lightblue\")\n",
    "barraM = ax.bar(ejeX + ancho/2, mujeres, ancho, label='Mujeres',color=\"red\")\n",
    "\n"
   ]
  },
  {
   "cell_type": "markdown",
   "id": "c0f53048",
   "metadata": {},
   "source": [
    "Nuestra grafica se ve bien, pero nos queda agregar información, como títulos, Puntajes, Grupos y Género\n",
    "  \n",
    "Agreguemos esta info al plot"
   ]
  },
  {
   "cell_type": "code",
   "execution_count": 12,
   "id": "9a254651",
   "metadata": {},
   "outputs": [
    {
     "data": {
      "text/plain": [
       "<matplotlib.legend.Legend at 0x7fc0fa91cf10>"
      ]
     },
     "execution_count": 12,
     "metadata": {},
     "output_type": "execute_result"
    },
    {
     "data": {
      "image/png": "[encoded data removed]",
      "text/plain": [
       "<Figure size 432x288 with 1 Axes>"
      ]
     },
     "metadata": {
      "needs_background": "light"
     },
     "output_type": "display_data"
    }
   ],
   "source": [
    "fig,ax = plt.subplots()\n",
    "\n",
    "#nuestras etiquetas serán las regiones, es decir las key de data pero entregadas como lista\n",
    "etiquetas=list(data.keys())\n",
    "\n",
    "#Ahora generamos una lista con todos los valores de los hombres y mujeres por región \n",
    "hombres=[]\n",
    "mujeres=[]\n",
    "for etiqueta in etiquetas:\n",
    "    hombres.append(data[etiqueta]['Hombres'])\n",
    "    mujeres.append(data[etiqueta]['Mujeres'])\n",
    "\n",
    "    \n",
    "   \n",
    "# Tenemos que definir la posición de las etiquetas en la gráfica o quedará todo desordenado \n",
    "#y además como dividir el eje para cada barra\n",
    "\n",
    "ejeX = np.arange(len(etiquetas))\n",
    "\n",
    "\n",
    "# Tenemos que hacer dos barras  que serán la cantidad de hombres y mujeres, \n",
    "#para esto definiremos el ancho de cada barra\n",
    "\n",
    "ancho=0.5\n",
    "\n",
    "#la primera barra irá en la mitad de la izquierda y la segunda en la mitad de la derecha\n",
    "\n",
    "barraH = ax.bar(ejeX - ancho/2, hombres, ancho, label='Hombres',color=\"lightblue\")\n",
    "barraM = ax.bar(ejeX + ancho/2, mujeres, ancho, label='Mujeres',color=\"red\")\n",
    "\n",
    "\n",
    "\n",
    "#Pondremos nombre a nuestro eje de las ordenadas\n",
    "ax.set_ylabel('Cantidad de Habitantes')\n",
    "#Pondremos un título\n",
    "ax.set_title('Cantidad de Hombres y Mujeres por Región')\n",
    "#Agregaremos a cada par de barras un nombre\n",
    "ax.set_xticks(ejeX)\n",
    "#Agregaremos las etiquetas al eje de las abscisas\n",
    "\n",
    "ax.set_xticklabels(etiquetas, rotation=90)\n",
    "\n",
    "#Agregaremos la leyenda de las barras\n",
    "ax.legend()\n"
   ]
  },
  {
   "cell_type": "markdown",
   "id": "20e74368",
   "metadata": {},
   "source": [
    "##### Como podemos ver el gráfico mejoro bastante, sin embargo es muy dificil leer las etiquetas de las regiones, por lo que haremos un grafico de barra vertical"
   ]
  },
  {
   "cell_type": "code",
   "execution_count": 13,
   "id": "81ef0587",
   "metadata": {},
   "outputs": [
    {
     "data": {
      "text/plain": [
       "<matplotlib.legend.Legend at 0x7fc0fa7fdd90>"
      ]
     },
     "execution_count": 13,
     "metadata": {},
     "output_type": "execute_result"
    },
    {
     "data": {
      "image/png": "[encoded data removed]",
      "text/plain": [
       "<Figure size 432x288 with 1 Axes>"
      ]
     },
     "metadata": {
      "needs_background": "light"
     },
     "output_type": "display_data"
    }
   ],
   "source": [
    "fig,ax = plt.subplots()\n",
    "\n",
    "#nuestras etiquetas serán las regiones, es decir las key de data pero entregadas como lista\n",
    "etiquetas=list(data.keys())\n",
    "\n",
    "#Ahora generamos una lista con todos los valores de los hombres y mujeres por región \n",
    "hombres=[]\n",
    "mujeres=[]\n",
    "for etiqueta in etiquetas:\n",
    "    hombres.append(data[etiqueta]['Hombres'])\n",
    "    mujeres.append(data[etiqueta]['Mujeres'])\n",
    "\n",
    "    \n",
    "   \n",
    "# Tenemos que definir la posición de las etiquetas en la gráfica o quedará todo desordenado \n",
    "#y además como dividir el eje para cada barra\n",
    "\n",
    "ejeX = np.arange(len(etiquetas))\n",
    "\n",
    "\n",
    "# Tenemos que hacer dos barras  que serán la cantidad de hombres y mujeres, \n",
    "#para esto definiremos el ancho de cada barra\n",
    "\n",
    "ancho=0.5\n",
    "\n",
    "#la primera barra irá en la mitad de la izquierda y la segunda en la mitad de la derecha\n",
    "# Cambiamos bar por barh para tener una barra horizontal\n",
    "\n",
    "barraH = ax.barh(ejeX - ancho/2, hombres, ancho, label='Hombres',color=\"lightblue\")\n",
    "barraM = ax.barh(ejeX + ancho/2, mujeres, ancho, label='Mujeres',color=\"red\")\n",
    "\n",
    "# Ahora debemos cambiar las anotaciones del eje \"y\" por el \"x\" y viceversa.\n",
    "\n",
    "\n",
    "#Pondremos nombre a nuestro eje de las abscisas\n",
    "ax.set_xlabel('Cantidad de Habitantes en millones')\n",
    "#Pondremos un título\n",
    "ax.set_title('Cantidad de Hombres y Mujeres por Región')\n",
    "#Agregaremos a cada par de barras un nombre\n",
    "ax.set_yticks(ejeX)\n",
    "#Agregaremos las etiquetas al eje de las ordenadas\n",
    "\n",
    "ax.set_yticklabels(etiquetas)\n",
    "\n",
    "#Agregaremos la leyenda de las barras\n",
    "ax.legend()\n"
   ]
  },
  {
   "cell_type": "markdown",
   "id": "0b9730d0",
   "metadata": {},
   "source": [
    "##### Nuestro grafico ha mejorado bastante, ahora le ampliaremos el tamaño"
   ]
  },
  {
   "cell_type": "code",
   "execution_count": 14,
   "id": "1b8d0a42",
   "metadata": {},
   "outputs": [
    {
     "data": {
      "text/plain": [
       "<matplotlib.legend.Legend at 0x7fc0fa74d370>"
      ]
     },
     "execution_count": 14,
     "metadata": {},
     "output_type": "execute_result"
    },
    {
     "data": {
      "image/png": "[encoded data removed]",
      "text/plain": [
       "<Figure size 1440x720 with 1 Axes>"
      ]
     },
     "metadata": {
      "needs_background": "light"
     },
     "output_type": "display_data"
    }
   ],
   "source": [
    "fig,ax = plt.subplots(figsize=(20,10))\n",
    "\n",
    "#nuestras etiquetas serán las regiones, es decir las key de data pero entregadas como lista\n",
    "etiquetas=list(data.keys())\n",
    "\n",
    "#Ahora generamos una lista con todos los valores de los hombres y mujeres por región \n",
    "hombres=[]\n",
    "mujeres=[]\n",
    "for etiqueta in etiquetas:\n",
    "    hombres.append(data[etiqueta]['Hombres'])\n",
    "    mujeres.append(data[etiqueta]['Mujeres'])\n",
    "\n",
    "    \n",
    "   \n",
    "# Tenemos que definir la posición de las etiquetas en la gráfica o quedará todo desordenado \n",
    "#y además como dividir el eje para cada barra\n",
    "\n",
    "ejeX = np.arange(len(etiquetas))\n",
    "\n",
    "\n",
    "# Tenemos que hacer dos barras  que serán la cantidad de hombres y mujeres, \n",
    "#para esto definiremos el ancho de cada barra\n",
    "\n",
    "ancho=0.5\n",
    "\n",
    "#la primera barra irá en la mitad de la izquierda y la segunda en la mitad de la derecha\n",
    "# Cambiamos bar por barh para tener una barra horizontal\n",
    "\n",
    "barraH = ax.barh(ejeX - ancho/2, hombres, ancho, label='Hombres',color=\"lightblue\")\n",
    "barraM = ax.barh(ejeX + ancho/2, mujeres, ancho, label='Mujeres',color=\"red\")\n",
    "\n",
    "# Ahora debemos cambiar las anotaciones del eje \"y\" por el \"x\" y viceversa.\n",
    "\n",
    "\n",
    "#Pondremos nombre a nuestro eje de las abscisas\n",
    "ax.set_xlabel('Cantidad de Habitantes en millones')\n",
    "#Pondremos un título\n",
    "ax.set_title('Cantidad de Hombres y Mujeres por Región')\n",
    "#Agregaremos a cada par de barras un nombre\n",
    "ax.set_yticks(ejeX)\n",
    "#Agregaremos las etiquetas al eje de las ordenadas\n",
    "\n",
    "ax.set_yticklabels(etiquetas)\n",
    "\n",
    "#Agregaremos la leyenda de las barras\n",
    "ax.legend()\n"
   ]
  },
  {
   "cell_type": "code",
   "execution_count": null,
   "id": "b1d2e11b",
   "metadata": {},
   "outputs": [],
   "source": []
  }
 ],
 "metadata": {
  "kernelspec": {
   "display_name": "Python 3",
   "language": "python",
   "name": "python3"
  },
  "language_info": {
   "codemirror_mode": {
    "name": "ipython",
    "version": 3
   },
   "file_extension": ".py",
   "mimetype": "text/x-python",
   "name": "python",
   "nbconvert_exporter": "python",
   "pygments_lexer": "ipython3",
   "version": "3.8.8"
  }
 },
 "nbformat": 4,
 "nbformat_minor": 5
}
